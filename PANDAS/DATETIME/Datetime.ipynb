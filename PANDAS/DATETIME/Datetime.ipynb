{
 "cells": [
  {
   "cell_type": "code",
   "execution_count": null,
   "metadata": {},
   "outputs": [],
   "source": [
    "import pandas as pd\n",
    "import datetime "
   ]
  },
  {
   "cell_type": "markdown",
   "metadata": {},
   "source": [
    "# Lendo arquivos"
   ]
  },
  {
   "cell_type": "code",
   "execution_count": null,
   "metadata": {},
   "outputs": [],
   "source": [
    "caminho = r\"\""
   ]
  },
  {
   "cell_type": "code",
   "execution_count": null,
   "metadata": {},
   "outputs": [],
   "source": [
    "df = pd.read_csv(caminho,encoding='utf-8', sep=',')"
   ]
  },
  {
   "cell_type": "code",
   "execution_count": null,
   "metadata": {},
   "outputs": [],
   "source": [
    "df = df[['DATA_VENDA','PRODUTO','CODOPERACAO','NASCIMENTO']]\n",
    "df"
   ]
  },
  {
   "cell_type": "markdown",
   "metadata": {},
   "source": [
    "# Convertendo em data"
   ]
  },
  {
   "cell_type": "code",
   "execution_count": null,
   "metadata": {},
   "outputs": [],
   "source": [
    "df['DATA_VENDA'] = pd.to_datetime(df['DATA_VENDA'], yearfirst=True, errors='coerce')\n",
    "df['NASCIMENTO'] = pd.to_datetime(df['NASCIMENTO'], yearfirst=True, errors='coerce')\n",
    "df.dtypes"
   ]
  },
  {
   "cell_type": "markdown",
   "metadata": {},
   "source": [
    "# Tipos disponíveis (datetime, date, timedelta)"
   ]
  },
  {
   "cell_type": "code",
   "execution_count": null,
   "metadata": {},
   "outputs": [],
   "source": [
    "# Pego a data e o tempo\n",
    "#df[df['DATA_VENDA'] >= datetime.date(2024,5,10)] == pego só a data, sem o tempo\n",
    "#df[df['DATA_VENDA'] >= datetime.time(2024,5,10)] == pego só o tempo, sem a data\n",
    "\n",
    "df = df[df['DATA_VENDA'] >= datetime.datetime(2024,5,10)]\n",
    "df"
   ]
  },
  {
   "cell_type": "code",
   "execution_count": null,
   "metadata": {},
   "outputs": [],
   "source": [
    "# datetime.timedelta = posso adicionar ou subtrair dias, semanas, minutos, segundos, horas...\n",
    "df['DATA_VENDA2'] = df['DATA_VENDA'] + datetime.timedelta(days=10)\n",
    "df"
   ]
  },
  {
   "cell_type": "markdown",
   "metadata": {},
   "source": [
    "# Objetos"
   ]
  },
  {
   "cell_type": "code",
   "execution_count": null,
   "metadata": {},
   "outputs": [],
   "source": [
    "# Pegar o dia de hoje\n",
    "df['HOJE'] = datetime.date.today()\n",
    "df"
   ]
  },
  {
   "cell_type": "code",
   "execution_count": null,
   "metadata": {},
   "outputs": [],
   "source": [
    "# ALTERAR DATA, NA LINHA QUE EU QUISER.\n",
    "df['HOJE'].iloc[1] = datetime.date.replace(datetime.date(2026,6,28))\n",
    "df"
   ]
  },
  {
   "cell_type": "markdown",
   "metadata": {},
   "source": [
    "# dt = é do próprio pandas, não do datetime"
   ]
  },
  {
   "cell_type": "code",
   "execution_count": null,
   "metadata": {},
   "outputs": [],
   "source": [
    "df['ANO/MES'] = df['DATA_VENDA2'].dt.strftime('%Y/%m')\n",
    "df['DIAS'] = df['DATA_VENDA2'].dt.day\n",
    "df['MES'] = df['DATA_VENDA2'].dt.month\n",
    "df['ANO'] = df['DATA_VENDA2'].dt.year\n",
    "df['DIA DA SEMANA'] = df['DATA_VENDA2'].dt.weekday\n",
    "df"
   ]
  },
  {
   "cell_type": "code",
   "execution_count": null,
   "metadata": {},
   "outputs": [],
   "source": [
    "# datetime.datetime.now() = datetime.datetime.today()\n",
    "#UNICA DIFERENÇA É QUE O NOW() ACEITA COLOCAR FUSO HORÁRIO DE QUALQUER PAÍS, E O TODAY() SÓ PEGO DO LOCAL \n",
    "\n",
    "df['HOJE'] = pd.to_datetime(df['HOJE'], yearfirst=True)\n",
    "df.dtypes"
   ]
  },
  {
   "cell_type": "code",
   "execution_count": null,
   "metadata": {},
   "outputs": [],
   "source": [
    "df['IDADE'] = df['HOJE'] - df['NASCIMENTO']\n",
    "df"
   ]
  }
 ],
 "metadata": {
  "kernelspec": {
   "display_name": "Python 3",
   "language": "python",
   "name": "python3"
  },
  "language_info": {
   "codemirror_mode": {
    "name": "ipython",
    "version": 3
   },
   "file_extension": ".py",
   "mimetype": "text/x-python",
   "name": "python",
   "nbconvert_exporter": "python",
   "pygments_lexer": "ipython3",
   "version": "3.11.9"
  }
 },
 "nbformat": 4,
 "nbformat_minor": 2
}
