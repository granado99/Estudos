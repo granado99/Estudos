{
 "cells": [
  {
   "cell_type": "code",
   "execution_count": null,
   "metadata": {},
   "outputs": [],
   "source": [
    "import pandas as pd\n",
    "import duckdb "
   ]
  },
  {
   "cell_type": "code",
   "execution_count": null,
   "metadata": {},
   "outputs": [],
   "source": [
    "caminho = r\"\""
   ]
  },
  {
   "cell_type": "markdown",
   "metadata": {},
   "source": [
    "# EXEMPLO DUCKDB = serve para filtrar a base antes de carregá-la"
   ]
  },
  {
   "cell_type": "code",
   "execution_count": null,
   "metadata": {},
   "outputs": [],
   "source": [
    "query = f\"\"\"\n",
    "SELECT \n",
    "    *\n",
    "FROM \n",
    "    read_csv('{caminho}') \n",
    "\"\"\""
   ]
  },
  {
   "cell_type": "code",
   "execution_count": null,
   "metadata": {},
   "outputs": [],
   "source": [
    "df = duckdb.sql(query)\n",
    "pandas = df.to_df()\n",
    "pandas"
   ]
  },
  {
   "cell_type": "markdown",
   "metadata": {},
   "source": [
    "# DUCKDB + SQL"
   ]
  },
  {
   "cell_type": "markdown",
   "metadata": {},
   "source": [
    "## DISTINCT"
   ]
  },
  {
   "cell_type": "code",
   "execution_count": null,
   "metadata": {},
   "outputs": [],
   "source": [
    "## DISTINCT\n",
    "\t## se fosse distinct *, para remover a linha, todas as colunas devem ser iguais.\n",
    "\n",
    "query1 = f\"\"\"\n",
    "SELECT\n",
    "\tDISTINCT CIDADE,\n",
    "    DATA_CADASTRO\n",
    "FROM\n",
    "\tread_csv('{caminho}')\n",
    "WHERE \n",
    "\tDATA_CADASTRO = '2024-07-06'\n",
    "\"\"\""
   ]
  },
  {
   "cell_type": "code",
   "execution_count": null,
   "metadata": {},
   "outputs": [],
   "source": [
    "df1 = duckdb.sql(query1)\n",
    "pandas1 = df1.to_df()\n",
    "pandas1"
   ]
  },
  {
   "cell_type": "markdown",
   "metadata": {},
   "source": [
    "## TOP OU LIMIT"
   ]
  },
  {
   "cell_type": "code",
   "execution_count": null,
   "metadata": {},
   "outputs": [],
   "source": [
    "## TOP OU LIMIT\n",
    "query2 = f\"\"\"\n",
    "SELECT TOP 10\n",
    "\tNOME_CLIENTE,\n",
    "    DATA_CADASTRO\n",
    "from\n",
    "\tread_csv('{caminho}')\n",
    "WHERE \n",
    "\tDATA_CADASTRO = '2024-07-06'\n",
    "\"\"\"\n",
    "\n",
    "query2 = f\"\"\"\n",
    "SELECT \n",
    "\tNOME_CLIENTE,\n",
    "    DATA_CADASTRO\n",
    "from\n",
    "\tread_csv('{caminho}')\n",
    "WHERE \n",
    "\tDATA_CADASTRO = '2024-07-06'\n",
    "LIMIT 50\n",
    "\"\"\""
   ]
  },
  {
   "cell_type": "code",
   "execution_count": null,
   "metadata": {},
   "outputs": [],
   "source": [
    "df2 = duckdb.sql(query2)\n",
    "pandas2 = df2.to_df()\n",
    "pandas2"
   ]
  },
  {
   "cell_type": "markdown",
   "metadata": {},
   "source": [
    "## CALCULOS"
   ]
  },
  {
   "cell_type": "code",
   "execution_count": null,
   "metadata": {},
   "outputs": [],
   "source": [
    "## MAX\n",
    "\t\n",
    "query3 = f\"\"\"\n",
    "SELECT\n",
    "\tMAX(VLR_CONTRATADO) \n",
    "from\n",
    "\tread_csv('{caminho}')\n",
    "WHERE \n",
    "\tDATA_CADASTRO = '2024-07-06'\n",
    "\"\"\""
   ]
  },
  {
   "cell_type": "code",
   "execution_count": null,
   "metadata": {},
   "outputs": [],
   "source": [
    "df3 = duckdb.sql(query3)\n",
    "pandas3 = df3.to_df()\n",
    "pandas3"
   ]
  },
  {
   "cell_type": "code",
   "execution_count": null,
   "metadata": {},
   "outputs": [],
   "source": [
    "## MIN\n",
    "\n",
    "query4 = f\"\"\"\n",
    "SELECT \n",
    "\tMIN(VLR_CONTRATADO) \n",
    "from\n",
    "\tread_csv('{caminho}')\n",
    "WHERE \n",
    "\tDATA_CADASTRO = '2024-07-06'\n",
    "\"\"\""
   ]
  },
  {
   "cell_type": "code",
   "execution_count": null,
   "metadata": {},
   "outputs": [],
   "source": [
    "df4 = duckdb.sql(query4)\n",
    "pandas4 = df4.to_df()\n",
    "pandas4"
   ]
  },
  {
   "cell_type": "code",
   "execution_count": null,
   "metadata": {},
   "outputs": [],
   "source": [
    "## AVG\n",
    "\n",
    "query5 = f\"\"\"\n",
    "SELECT \n",
    "\tAVG(VLR_CONTRATADO) \n",
    "from\n",
    "\tread_csv('{caminho}')\n",
    "WHERE \n",
    "\tDATA_CADASTRO = '2024-07-06'\n",
    "\"\"\""
   ]
  },
  {
   "cell_type": "code",
   "execution_count": null,
   "metadata": {},
   "outputs": [],
   "source": [
    "df5 = duckdb.sql(query5)\n",
    "pandas5 = df5.to_df()\n",
    "pandas5"
   ]
  },
  {
   "cell_type": "code",
   "execution_count": null,
   "metadata": {},
   "outputs": [],
   "source": [
    "## SUM\n",
    "\n",
    "query6 = f\"\"\"\n",
    "select\n",
    "    sum(VLR_CONTRATADO)\n",
    "from\n",
    "    read_csv('{caminho}')\n",
    "where\n",
    "    DATA_CADASTRO = '2024-07-06'\n",
    "\"\"\""
   ]
  },
  {
   "cell_type": "code",
   "execution_count": null,
   "metadata": {},
   "outputs": [],
   "source": [
    "df6 = duckdb.sql(query6)\n",
    "pandas6 = df6.to_df()\n",
    "pandas6"
   ]
  },
  {
   "cell_type": "code",
   "execution_count": null,
   "metadata": {},
   "outputs": [],
   "source": [
    "## COUNT\n",
    "query7 = f\"\"\"\n",
    "select\n",
    "    count(VLR_CONTRATADO)\n",
    "from \n",
    "    read_csv('{caminho}')\n",
    "where\n",
    "    DATA_CADASTRO = '2024-07-06'\n",
    "\"\"\""
   ]
  },
  {
   "cell_type": "code",
   "execution_count": null,
   "metadata": {},
   "outputs": [],
   "source": [
    "\n",
    "df7 = duckdb.sql(query7)\n",
    "pandas7 = df7.to_df()\n",
    "pandas7"
   ]
  },
  {
   "cell_type": "markdown",
   "metadata": {},
   "source": [
    "## QUERIES COM DATA E HORA"
   ]
  },
  {
   "cell_type": "code",
   "execution_count": null,
   "metadata": {},
   "outputs": [],
   "source": [
    "## Extraindo partes de uma data (YEAR, MONTH, DAY)\n",
    "query8 = f\"\"\"\n",
    "select \n",
    "    DATA_CADASTRO,\n",
    "    YEAR(DATA_CADASTRO) AS ANO,\n",
    "    MONTH(DATA_CADASTRO) AS MES,\n",
    "    DAY(DATA_CADASTRO) AS DIA\n",
    "FROM\n",
    "    read_csv('{caminho}')\n",
    "where\n",
    "    DATA_CADASTRO = '2024-07-06'\n",
    "\"\"\""
   ]
  },
  {
   "cell_type": "code",
   "execution_count": null,
   "metadata": {},
   "outputs": [],
   "source": [
    "df8 = duckdb.sql(query8)\n",
    "pandas8 = df8.to_df()\n",
    "pandas8"
   ]
  },
  {
   "cell_type": "code",
   "execution_count": null,
   "metadata": {},
   "outputs": [],
   "source": [
    "## Adicionando ou subtraindo datas (DATEADD)\n",
    "query9 = f\"\"\"\n",
    "select \n",
    "    DATA_CADASTRO,\n",
    "    DATEADD(DAY, 2, DATA_CADASTRO) AS ADDDIA,\n",
    "    DATEADD(MONTH, 2, DATA_CADASTRO) AS ADDMES,\n",
    "    DATEADD(YEAR, -2, DATA_CADASTRO) AS SUBANO\n",
    "FROM\n",
    "    read_csv('{caminho}')\n",
    "WHERE\n",
    "    DATA_CADASTRO = '2024-07-06'\n",
    "\"\"\"\n",
    "\n",
    "query9 = f\"\"\"\n",
    "SELECT \n",
    "    DATA_CADASTRO,\n",
    "    DATE_ADD(DATA_CADASTRO, INTERVAL '2 days') AS ADDDIA,\n",
    "    DATE_ADD(DATA_CADASTRO, INTERVAL '2 months') AS ADDMES,\n",
    "    DATE_ADD(DATA_CADASTRO, INTERVAL '-2 years') AS SUBANO\n",
    "FROM\n",
    "    read_csv('{caminho}')\n",
    "WHERE\n",
    "    DATA_CADASTRO = '2024-07-06'\n",
    "\"\"\"\n"
   ]
  },
  {
   "cell_type": "code",
   "execution_count": null,
   "metadata": {},
   "outputs": [],
   "source": [
    "df9 = duckdb.sql(query9)\n",
    "pandas9 = df9.to_df()\n",
    "pandas9"
   ]
  },
  {
   "cell_type": "code",
   "execution_count": null,
   "metadata": {},
   "outputs": [],
   "source": [
    "## Adicionando ou subtraindo datas (DATEDIFF)\n",
    "\n",
    "query10 = f\"\"\"\n",
    "select \n",
    "    DATA_CADASTRO,\n",
    "    DATEDIFF(DAY, DATA_CADASTRO, GETDATE()) AS DIFDIAS,\n",
    "    DATEDIFF(MONT, DATA_CADASTRO, GETDATE()) AS DIFMES,\n",
    "    DATEDIFF(YEAR, DATA_CADASTRO, GETDATE()) AS DIFANO\n",
    "FROM\n",
    "    read_csv('{caminho}')\n",
    "WHERE\n",
    "    DATA_CADASTRO = '2024-07-06'\n",
    "\"\"\""
   ]
  },
  {
   "cell_type": "code",
   "execution_count": null,
   "metadata": {},
   "outputs": [],
   "source": [
    "df10 = duckdb.sql(query10)\n",
    "pandas10 = df10.to_df()\n",
    "pandas10"
   ]
  },
  {
   "cell_type": "code",
   "execution_count": null,
   "metadata": {},
   "outputs": [],
   "source": [
    "## Formatando data (FORMAT)\n",
    "query11 = f\"\"\"\n",
    "select \n",
    "    format(DATA_CADASTRO, 'yyyy-MM-dd') as data\n",
    "from\n",
    "    read_csv('{caminho}')\n",
    "where\n",
    "    DATA_CADASTRO = '2024-07-06'\n",
    "\"\"\""
   ]
  },
  {
   "cell_type": "code",
   "execution_count": null,
   "metadata": {},
   "outputs": [],
   "source": [
    "df11 = duckdb.sql(query11)\n",
    "pandas11 = df11.to_df()\n",
    "pandas11"
   ]
  },
  {
   "cell_type": "markdown",
   "metadata": {},
   "source": [
    "## GROUP BY"
   ]
  },
  {
   "cell_type": "code",
   "execution_count": null,
   "metadata": {},
   "outputs": [],
   "source": [
    "query12 = f\"\"\"\n",
    "SELECT \n",
    "    PRODUTO, \n",
    "    SUM(VLR_CONTRATADO),\n",
    "    COUNT(VLR_CONTRATADO),\n",
    "    AVG(VLR_CONTRATADO),\n",
    "    MAX(VLR_CONTRATADO),\n",
    "    MIN(VLR_CONTRATADO)\n",
    "FROM \n",
    "    READ_CSV('{caminho}')\n",
    "GROUP BY\n",
    "    PRODUTO\n",
    "\"\"\""
   ]
  },
  {
   "cell_type": "code",
   "execution_count": null,
   "metadata": {},
   "outputs": [],
   "source": [
    "base = duckdb.sql(query12)\n",
    "df = base.to_df()\n",
    "df"
   ]
  },
  {
   "cell_type": "markdown",
   "metadata": {},
   "source": [
    "## ORDER BY"
   ]
  },
  {
   "cell_type": "code",
   "execution_count": null,
   "metadata": {},
   "outputs": [],
   "source": [
    "query13 = f\"\"\"\n",
    "SELECT \n",
    "    PRODUTO, \n",
    "    SUM(VLR_CONTRATADO),\n",
    "    COUNT(VLR_CONTRATADO),\n",
    "    AVG(VLR_CONTRATADO),\n",
    "    MAX(VLR_CONTRATADO),\n",
    "    MIN(VLR_CONTRATADO)\n",
    "FROM \n",
    "    READ_CSV('{caminho}')\n",
    "GROUP BY\n",
    "    PRODUTO\n",
    "ORDER BY\n",
    "    PRODUTO ASC\n",
    "\"\"\""
   ]
  },
  {
   "cell_type": "code",
   "execution_count": null,
   "metadata": {},
   "outputs": [],
   "source": [
    "base2 = duckdb.sql(query13)\n",
    "df13 = base2.to_df()\n",
    "df13"
   ]
  },
  {
   "cell_type": "markdown",
   "metadata": {},
   "source": [
    "## HAVING = WHERE, PORÉM APENAS PARA QUANDO USA AGREGAÇÃO (SUM,COUNT,AVG,MIN,MAX)"
   ]
  },
  {
   "cell_type": "code",
   "execution_count": null,
   "metadata": {},
   "outputs": [],
   "source": [
    "query14 = f\"\"\"\n",
    "SELECT \n",
    "    PRODUTO,\n",
    "    SUM(VLR_CONTRATADO),\n",
    "    COUNT(VLR_CONTRATADO),\n",
    "    AVG(VLR_CONTRATADO),\n",
    "    MAX(VLR_CONTRATADO),\n",
    "    MIN(VLR_CONTRATADO)\n",
    "FROM\n",
    "    READ_CSV('{caminho}')\n",
    "GROUP BY\n",
    "    PRODUTO\n",
    "HAVING\n",
    "    COUNT(VLR_CONTRATADO) > 100\n",
    "ORDER BY\n",
    "    PRODUTO ASC\n",
    "\"\"\""
   ]
  },
  {
   "cell_type": "code",
   "execution_count": null,
   "metadata": {},
   "outputs": [],
   "source": [
    "base3 = duckdb.sql(query14)\n",
    "df14 = base3.to_df()\n",
    "df14"
   ]
  },
  {
   "cell_type": "markdown",
   "metadata": {},
   "source": [
    "## WHERE"
   ]
  },
  {
   "cell_type": "code",
   "execution_count": null,
   "metadata": {},
   "outputs": [],
   "source": [
    "sql15 = f\"\"\"\n",
    "\n",
    "select \n",
    "    PRODUTO,\n",
    "    VLR_CONTRATADO\n",
    "from\n",
    "    read_csv('{caminho}')\n",
    "where\n",
    "    VLR_CONTRATADO > 10000\n",
    "ORDER BY\n",
    "    PRODUTO ASC\n",
    "\"\"\""
   ]
  },
  {
   "cell_type": "code",
   "execution_count": null,
   "metadata": {},
   "outputs": [],
   "source": [
    "base15 = duckdb.sql(sql15)\n",
    "df15 = base15.to_df()\n",
    "df15"
   ]
  },
  {
   "cell_type": "markdown",
   "metadata": {},
   "source": [
    "## LIKE"
   ]
  },
  {
   "cell_type": "markdown",
   "metadata": {},
   "source": [
    "### 'A%' = tudo que começa com A | '%A' = tudo que termina com A | '%A%' = tudo que contem pelo menos um A"
   ]
  },
  {
   "cell_type": "code",
   "execution_count": null,
   "metadata": {},
   "outputs": [],
   "source": [
    "sql16 = f\"\"\"\n",
    "select \n",
    "    PRODUTO,\n",
    "    VLR_CONTRATADO\n",
    "from\n",
    "    read_csv('{caminho}')\n",
    "where\n",
    "    PRODUTO like '%a%'\n",
    "\n",
    "\"\"\""
   ]
  },
  {
   "cell_type": "code",
   "execution_count": null,
   "metadata": {},
   "outputs": [],
   "source": [
    "base16 = duckdb.sql(sql16)\n",
    "df16 = base16.to_df()\n",
    "df16"
   ]
  },
  {
   "cell_type": "markdown",
   "metadata": {},
   "source": [
    "# JOINS | LEFT JOIN | INNER JOIN \n"
   ]
  },
  {
   "cell_type": "code",
   "execution_count": null,
   "metadata": {},
   "outputs": [],
   "source": [
    "##LEFT JOIN \n",
    "query17 = f\"\"\"\n",
    "SELECT top 10\n",
    "\tpro.Nome,\n",
    "\tp.CodOperacao,\n",
    "\tp.valor\n",
    "from\n",
    "\tC.Produto pro with(nolock) \n",
    "\tLEFT JOIN\n",
    "\tC.Proposta p with(nolock)\n",
    "\ton pro.Id = p.ProdutoId\n",
    "\"\"\""
   ]
  },
  {
   "cell_type": "code",
   "execution_count": null,
   "metadata": {},
   "outputs": [],
   "source": [
    "##INNER JOIN\n",
    "sql18 = f\"\"\"\n",
    "SELECT top 10\n",
    "\tpro.Nome,\n",
    "\tp.CodOperacao,\n",
    "\tp.valor\n",
    "from\n",
    "\tC.Produto pro with(nolock) \n",
    "\tINNER JOIN \n",
    "\tC.Proposta p with(nolock)\n",
    "\ton pro.Id = p.ProdutoId\n",
    "order BY \n",
    "\tp.CodOperacao desc\n",
    "\"\"\""
   ]
  },
  {
   "cell_type": "markdown",
   "metadata": {},
   "source": [
    "# CASE WHEN"
   ]
  },
  {
   "cell_type": "code",
   "execution_count": null,
   "metadata": {},
   "outputs": [],
   "source": [
    "\"\"\"SELECT \n",
    "\tp.Id,\n",
    "\tp.Nome,\n",
    "\tp.Ativo,\n",
    "\tCASE \n",
    "\t\tWHEN p.Nome LIKE 'CP%' THEN  'OLÁ'\n",
    "\t\tELSE 'XAU'\n",
    "\tEND AS Teste\n",
    "FROM\n",
    "\tC.Produto p WITH(NOLOCK)\n",
    "WHERE \n",
    "\tP.Id < 2000\"\"\""
   ]
  }
 ],
 "metadata": {
  "kernelspec": {
   "display_name": "Python 3",
   "language": "python",
   "name": "python3"
  },
  "language_info": {
   "codemirror_mode": {
    "name": "ipython",
    "version": 3
   },
   "file_extension": ".py",
   "mimetype": "text/x-python",
   "name": "python",
   "nbconvert_exporter": "python",
   "pygments_lexer": "ipython3",
   "version": "3.11.9"
  }
 },
 "nbformat": 4,
 "nbformat_minor": 2
}
