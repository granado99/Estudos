{
 "cells": [
  {
   "cell_type": "markdown",
   "metadata": {},
   "source": [
    "# Exercícios python"
   ]
  },
  {
   "cell_type": "code",
   "execution_count": null,
   "metadata": {},
   "outputs": [],
   "source": [
    "result = []\n",
    "for i in range(x + 1):\n",
    "    for j in range(y + 1):\n",
    "        for k in range(z + 1):\n",
    "            if i + j + k != n:\n",
    "                result.append([i, j, k])\n",
    "\n",
    "print(result)\n",
    "\n",
    "## ou \n",
    "\n",
    "##     print(list([i,j,k] for i in range(x+1) for j in range(y+1) for k in range(z+1)  if i+j+k !=n))\n"
   ]
  },
  {
   "cell_type": "code",
   "execution_count": null,
   "metadata": {},
   "outputs": [],
   "source": [
    "if __name__ == '__main__':\n",
    "    n = int(input())\n",
    "    arr = map(int, input().split())\n",
    "\n",
    "    print(sorted(set(arr), reverse=True)[1])"
   ]
  },
  {
   "cell_type": "code",
   "execution_count": null,
   "metadata": {},
   "outputs": [],
   "source": [
    "if __name__ == '__main__':\n",
    "    n = int(input())\n",
    "    student_marks = {}\n",
    "    for _ in range(n):\n",
    "        name, *line = input().split()\n",
    "        scores = list(map(float, line))\n",
    "        student_marks[name] = scores\n",
    "    query_name = input()\n",
    "    \n",
    "    if query_name in student_marks:\n",
    "        scores = student_marks[query_name]\n",
    "        media = sum(scores) / len(scores)\n",
    "        print(f'{media:.2f}')\n",
    "    "
   ]
  },
  {
   "cell_type": "code",
   "execution_count": null,
   "metadata": {},
   "outputs": [],
   "source": [
    "try:\n",
    "    n = int(input())\n",
    "except ValueError:\n",
    "    print(\"erro\")\n",
    "    exit()\n",
    "\n",
    "\n",
    "lista = []\n",
    "\n",
    "for i in range(n):\n",
    "    try:\n",
    "        valores = int(input())\n",
    "        lista.append(valores)\n",
    "    except ValueError:\n",
    "        print(\"erro\")\n",
    "        exit()\n",
    "\n",
    "tupla = tuple(lista)\n",
    "\n",
    "print(tupla)\n",
    "print(hash(valores))"
   ]
  },
  {
   "cell_type": "code",
   "execution_count": null,
   "metadata": {},
   "outputs": [],
   "source": [
    "def swap_case(s):\n",
    "    lista = list(s)\n",
    "    for i in range(len(lista)):\n",
    "        if lista[i].islower():\n",
    "            lista[i] = lista[i].upper()\n",
    "        elif lista[i].isupper():\n",
    "            lista[i] = lista[i].lower()\n",
    "    return ''.join(lista)\n",
    "\n",
    "\n",
    "s = input()\n",
    "result = swap_case(s)\n",
    "print(result)"
   ]
  },
  {
   "cell_type": "code",
   "execution_count": null,
   "metadata": {},
   "outputs": [],
   "source": [
    "def split_and_join(line):\n",
    "    splitando = line.split(\" \")\n",
    "    return '-'.join(splitando)\n",
    "\n",
    "\n",
    "line = input()\n",
    "result = split_and_join(line)\n",
    "print(result)"
   ]
  },
  {
   "cell_type": "code",
   "execution_count": null,
   "metadata": {},
   "outputs": [],
   "source": [
    "def mutate_string(string, position, character):\n",
    "    lista = list(string)\n",
    "    lista[position] = character\n",
    "    return ''.join(lista)\n",
    "\n",
    "\n",
    "s = input()\n",
    "i, c = input().split()\n",
    "s_new = mutate_string(s, int(i), c)\n",
    "print(s_new)"
   ]
  },
  {
   "cell_type": "code",
   "execution_count": null,
   "metadata": {},
   "outputs": [],
   "source": [
    "def count_substring(string, sub_string):\n",
    "    count = 0\n",
    "    for i in range(len(string)):\n",
    "        if string[i:len(string)].startswith(sub_string):\n",
    "            count += 1\n",
    "    return count\n",
    "\n",
    "\n",
    "\n",
    "    \n",
    "string = input().strip()\n",
    "sub_string = input().strip()\n",
    "\n",
    "count = count_substring(string, sub_string)\n",
    "print(count)"
   ]
  },
  {
   "cell_type": "code",
   "execution_count": null,
   "metadata": {},
   "outputs": [],
   "source": [
    "def count_substring(string, sub_string):\n",
    "    count = 0\n",
    "    for i in range(len(string)):\n",
    "        if string[i:len(string)].startswith(sub_string):\n",
    "            count += 1\n",
    "    return count\n",
    "\n",
    "\n",
    "\n",
    "    \n",
    "string = input().strip()\n",
    "sub_string = input().strip()\n",
    "\n",
    "count = count_substring(string, sub_string)\n",
    "print(count)"
   ]
  }
 ],
 "metadata": {
  "kernelspec": {
   "display_name": "Python 3",
   "language": "python",
   "name": "python3"
  },
  "language_info": {
   "codemirror_mode": {
    "name": "ipython",
    "version": 3
   },
   "file_extension": ".py",
   "mimetype": "text/x-python",
   "name": "python",
   "nbconvert_exporter": "python",
   "pygments_lexer": "ipython3",
   "version": "3.12.3"
  }
 },
 "nbformat": 4,
 "nbformat_minor": 2
}
