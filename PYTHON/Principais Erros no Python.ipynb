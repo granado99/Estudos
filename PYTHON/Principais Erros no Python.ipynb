{
 "cells": [
  {
   "cell_type": "code",
   "execution_count": null,
   "metadata": {},
   "outputs": [],
   "source": [
    "# SyntaxError = ta escrito algo que não faz parte da linguagem\n",
    "\n",
    "# NameError = ocorre quando uma variável ou função não foi definida\n",
    "\n",
    "#TypeError = ocorre quando operação é aplicado a algum tipo errado\n",
    "\n",
    "#IndexError = ocorre quando tentamos acessar uma lista ou outro tipo de dado usando um indice errado\n",
    "\n",
    "# ValueError = ocorre quando uma função recebe um argumento com valor inapropriado\n",
    "\n",
    "# KeyError = ocorre quando tentamos acessar um dicionario com uma chave que não existe\n",
    "\n",
    "# AttributeError = ocorre quando uma variável não tem um atributo/função"
   ]
  },
  {
   "cell_type": "markdown",
   "metadata": {},
   "source": [
    "<H1> TRY / EXCEPT </H1>"
   ]
  },
  {
   "cell_type": "code",
   "execution_count": 1,
   "metadata": {},
   "outputs": [
    {
     "name": "stdout",
     "output_type": "stream",
     "text": [
      "Deu TypeError\n"
     ]
    }
   ],
   "source": [
    "# SERVE PARA TRATAR O ERRO, E IMPEDE QUE O PROGRAMA PARE DE FUNCIONAR!\n",
    "\n",
    "# Estrutura\n",
    "'''try:\n",
    "    faça isso\n",
    "except:\n",
    "    se der problema, faz isso\n",
    "'''\n",
    "\n",
    "try:\n",
    "    len(5)\n",
    "except NameError:\n",
    "    print('Deu NameError')\n",
    "except TypeError:\n",
    "    print('Deu TypeError')"
   ]
  },
  {
   "cell_type": "code",
   "execution_count": 2,
   "metadata": {},
   "outputs": [
    {
     "name": "stdout",
     "output_type": "stream",
     "text": [
      "vc nao digitou um numero!\n"
     ]
    }
   ],
   "source": [
    "# sempre tratar toda entrada de dado!\n",
    "try:\n",
    "    num = int(input(\"digite um numero: \"))\n",
    "except:\n",
    "    print('vc nao digitou um numero!')"
   ]
  },
  {
   "cell_type": "code",
   "execution_count": null,
   "metadata": {},
   "outputs": [],
   "source": [
    "# DEBUG, é usar os breakpoints, e ir apertando pra debugar, dai vai vendo o resultado linha por linha."
   ]
  }
 ],
 "metadata": {
  "kernelspec": {
   "display_name": "Python 3",
   "language": "python",
   "name": "python3"
  },
  "language_info": {
   "codemirror_mode": {
    "name": "ipython",
    "version": 3
   },
   "file_extension": ".py",
   "mimetype": "text/x-python",
   "name": "python",
   "nbconvert_exporter": "python",
   "pygments_lexer": "ipython3",
   "version": "3.11.7"
  }
 },
 "nbformat": 4,
 "nbformat_minor": 2
}
