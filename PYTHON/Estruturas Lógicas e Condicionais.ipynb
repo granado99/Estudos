{
 "cells": [
  {
   "cell_type": "markdown",
   "metadata": {},
   "source": [
    "<H1>IF, ELSE, ELIF, MATCH</H1>"
   ]
  },
  {
   "cell_type": "code",
   "execution_count": 12,
   "metadata": {},
   "outputs": [
    {
     "name": "stdout",
     "output_type": "stream",
     "text": [
      "menor de idade\n"
     ]
    }
   ],
   "source": [
    "idade = 9\n",
    "if idade >= 18:\n",
    "    print('maior de idade')\n",
    "elif idade < 18:\n",
    "    print('menor de idade')\n",
    "elif idade < 14:\n",
    "    print('uma criança ainda')\n",
    "else:\n",
    "    print('não existe')\n"
   ]
  },
  {
   "cell_type": "markdown",
   "metadata": {},
   "source": [
    "<H1>AND, OR, NOT , IS</H1>"
   ]
  },
  {
   "cell_type": "code",
   "execution_count": 17,
   "metadata": {},
   "outputs": [
    {
     "name": "stdout",
     "output_type": "stream",
     "text": [
      "Bem-vindo usuário\n",
      "Bem vindo\n",
      "Bem vindo\n"
     ]
    }
   ],
   "source": [
    "ativo = True\n",
    "logado = True\n",
    "\n",
    "if ativo and logado:\n",
    "    print('Bem-vindo usuário')\n",
    "else:\n",
    "    print('crie sua conta!')\n",
    "\n",
    "\n",
    "\n",
    "## ''NOT'' É É O INVERSO DO VALOR\n",
    "if not ativo:  # se nao estiver ativo\n",
    "    print('crie sua conta')\n",
    "else:\n",
    "    print('Bem vindo')\n",
    "\n",
    "\n",
    "## ''IS'' ME TRAZ RESULTADO COMO TRUE OU FALSE\n",
    "if ativo is True: # se ativo é true\n",
    "    print('Bem vindo')\n",
    "else:\n",
    "    print('Crie sua conta')"
   ]
  },
  {
   "cell_type": "markdown",
   "metadata": {},
   "source": [
    "<H1>EXERCÍCIOS</H1>"
   ]
  },
  {
   "cell_type": "code",
   "execution_count": 19,
   "metadata": {},
   "outputs": [
    {
     "name": "stdout",
     "output_type": "stream",
     "text": [
      "é par\n"
     ]
    }
   ],
   "source": [
    "#1\n",
    "num = int(input('digite um numero inteiro: '))\n",
    "\n",
    "if num % 2 == 0:\n",
    "    print('é par')\n",
    "else:\n",
    "    print('é impar')"
   ]
  },
  {
   "cell_type": "code",
   "execution_count": 25,
   "metadata": {},
   "outputs": [
    {
     "name": "stdout",
     "output_type": "stream",
     "text": [
      "5.06\n"
     ]
    }
   ],
   "source": [
    "#2\n",
    "operação = input('escolha uma operação matemática: * , / , + , -')\n",
    "num1 = float(input('digite um numero: '))\n",
    "num2 = float(input('digite outro numero: '))\n",
    "\n",
    "if operação == '*':\n",
    "    resultado = num1*num2\n",
    "    print(resultado)\n",
    "elif operação == \"/\":\n",
    "    resultado = num1/num2\n",
    "    print(resultado)\n",
    "elif operação == \"+\":\n",
    "    resultado = num1 + num2\n",
    "    print(resultado)\n",
    "elif operação == \"-\":\n",
    "    resultado = num1 - num2\n",
    "    print(resultado)\n"
   ]
  },
  {
   "cell_type": "code",
   "execution_count": 26,
   "metadata": {},
   "outputs": [
    {
     "name": "stdout",
     "output_type": "stream",
     "text": [
      "2023 não bissexto\n"
     ]
    }
   ],
   "source": [
    "#3\n",
    "ano = int(input('informe um ano para ver se ele é bissexto: '))\n",
    "\n",
    "if ano % 400 == 0:\n",
    "    print(f\"esse {ano} é bissexto\")\n",
    "elif ano % 4 == 0  and ano % 100 != 0:\n",
    "    print(f'Esse {ano} é bissexto')\n",
    "else:\n",
    "    print(f'{ano} não bissexto')"
   ]
  },
  {
   "cell_type": "code",
   "execution_count": 29,
   "metadata": {},
   "outputs": [
    {
     "name": "stdout",
     "output_type": "stream",
     "text": [
      "invalido\n"
     ]
    }
   ],
   "source": [
    "#4 MATCH CASE = SWITCH\n",
    "# ''_'' significa se for outro valor\n",
    "num = int(input('digite um numero de 1 a 4: '))\n",
    "\n",
    "match num:\n",
    "    case 1:\n",
    "        print(\"JANEIRO\")\n",
    "    case 2:\n",
    "        print('FEVEREIRO')\n",
    "    case 3:\n",
    "        print('MARÇO')\n",
    "    case 4:\n",
    "        print(\"ABRIL\")\n",
    "    case _:\n",
    "        print('invalido')\n"
   ]
  },
  {
   "cell_type": "code",
   "execution_count": 31,
   "metadata": {},
   "outputs": [
    {
     "name": "stdout",
     "output_type": "stream",
     "text": [
      "segunda\n"
     ]
    }
   ],
   "source": [
    "#5\n",
    "num = int(input('digite um numero de 1 a 7: '))\n",
    "\n",
    "match num:\n",
    "    case 1:\n",
    "        print('domingo')\n",
    "    case 2: \n",
    "        print(\"segunda\")\n",
    "    case 3:\n",
    "        print(\"terça\")\n",
    "    case 4:\n",
    "        print(\"quarta\")\n",
    "    case 5:\n",
    "        print(\"quinta\")\n",
    "    case 6:\n",
    "        print(\"sexta\")\n",
    "    case 7:\n",
    "        print('sabado')\n",
    "    case _:\n",
    "        print('valor invalido')       "
   ]
  }
 ],
 "metadata": {
  "kernelspec": {
   "display_name": "Python 3",
   "language": "python",
   "name": "python3"
  },
  "language_info": {
   "codemirror_mode": {
    "name": "ipython",
    "version": 3
   },
   "file_extension": ".py",
   "mimetype": "text/x-python",
   "name": "python",
   "nbconvert_exporter": "python",
   "pygments_lexer": "ipython3",
   "version": "3.11.7"
  }
 },
 "nbformat": 4,
 "nbformat_minor": 2
}
