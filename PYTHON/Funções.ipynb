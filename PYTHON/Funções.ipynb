{
 "cells": [
  {
   "cell_type": "markdown",
   "metadata": {},
   "source": [
    "- Muito uteis para executar procedimentos que serão repetidos varias vezes\n",
    "- Algumas precisam receber paremetros e outras nao"
   ]
  },
  {
   "cell_type": "code",
   "execution_count": null,
   "metadata": {},
   "outputs": [],
   "source": [
    "# Como definir função\n",
    "\n",
    "def nome_da_função(parametros_de_entrada):\n",
    "    bloco_da_função\n",
    "\n",
    "\n",
    "# Nome da função = sempre com letras minusculas, e separado por \"_\"\n",
    "# Parametros de entradas são opcionais, e se tiver mais de um, são separados por \",\"\n",
    "# Bloco da função, onde o processamento da função acontece, pode ter ou não retorno da função"
   ]
  },
  {
   "cell_type": "code",
   "execution_count": 1,
   "metadata": {},
   "outputs": [
    {
     "name": "stdout",
     "output_type": "stream",
     "text": [
      "oi\n"
     ]
    }
   ],
   "source": [
    "def oi():\n",
    "    print(\"oi\")\n",
    "\n",
    "\n",
    "# Sempre que chamar uma função colocar ()\n",
    "oi()"
   ]
  },
  {
   "cell_type": "code",
   "execution_count": 3,
   "metadata": {},
   "outputs": [
    {
     "name": "stdout",
     "output_type": "stream",
     "text": [
      "49\n"
     ]
    }
   ],
   "source": [
    "# Função com (RETORNO)\n",
    "# return, ela finaliza a função\n",
    "\n",
    "def quadrado():\n",
    "    return 7*7\n",
    "\n",
    "\n",
    "# Uma variável recebe o retorno da função! ou coloco uma outra função pra receber!\n",
    "ret = quadrado()\n",
    "print(ret)"
   ]
  },
  {
   "cell_type": "code",
   "execution_count": 2,
   "metadata": {},
   "outputs": [
    {
     "name": "stdout",
     "output_type": "stream",
     "text": [
      "100\n"
     ]
    }
   ],
   "source": [
    "#Funções com (PARAMETROS)\n",
    "#são dados que servem para serem processados dentro da função\n",
    "\n",
    "def quadrado(x):\n",
    "    return x ** 2\n",
    "\n",
    "\n",
    "a = quadrado(10)\n",
    "print(a)\n"
   ]
  },
  {
   "cell_type": "code",
   "execution_count": 4,
   "metadata": {},
   "outputs": [
    {
     "name": "stdout",
     "output_type": "stream",
     "text": [
      "12\n",
      "9\n"
     ]
    }
   ],
   "source": [
    "def soma(x,y): #parametros\n",
    "    return x + y\n",
    "\n",
    "\n",
    "b = soma(10,2) # argumentos\n",
    "print(b)\n",
    "\n",
    "\n",
    "c = soma(x = 2, y = 7) # Estou passando o argumento para o parametro, dai nao importa a ordem.\n",
    "print(c)"
   ]
  },
  {
   "cell_type": "code",
   "execution_count": 5,
   "metadata": {},
   "outputs": [
    {
     "name": "stdout",
     "output_type": "stream",
     "text": [
      "9\n"
     ]
    }
   ],
   "source": [
    "# Funções com (PARAMETROS PADRAO) = funções que passar o parametro é opcional!\n",
    "\n",
    "def quadrado(x,y=2):  # Y = 2, quer dizer que se nao colocar o parametro, por padrao ele vai pegar como 2. E sempre deve ser no ultimo parametro.\n",
    "    return x ** y\n",
    "\n",
    "a = quadrado(3)\n",
    "print(a)"
   ]
  },
  {
   "cell_type": "code",
   "execution_count": null,
   "metadata": {},
   "outputs": [],
   "source": [
    "# Variáveis (GLOBAIS)\n",
    "\n",
    "total = 0\n",
    "def incrementa():\n",
    "    global total # assim que chama a variavel de fora\n",
    "    total += 1\n",
    "    return total"
   ]
  },
  {
   "cell_type": "code",
   "execution_count": 2,
   "metadata": {},
   "outputs": [
    {
     "name": "stdout",
     "output_type": "stream",
     "text": [
      "5\n"
     ]
    }
   ],
   "source": [
    "# Entendendo o (*args)\n",
    "\n",
    "def entendendo_args(*args): # Ele deixa ilmitado o numero de argumento que posso colocar, para nao dar erro do numero de parametros com os de argumentos. Ele transforma em tuplas.\n",
    "    return sum(args)\n",
    "\n",
    "\n",
    "print(entendendo_args(2,3))"
   ]
  },
  {
   "cell_type": "code",
   "execution_count": 7,
   "metadata": {},
   "outputs": [
    {
     "name": "stdout",
     "output_type": "stream",
     "text": [
      "eu nao te conheço\n",
      "bem vindo\n"
     ]
    }
   ],
   "source": [
    "def verifica_info(*args):\n",
    "    if 'geek' in args and 'uni' in args:\n",
    "        return 'bem vindo'\n",
    "    return 'eu nao te conheço'\n",
    "\n",
    "\n",
    "print(verifica_info())\n",
    "print(verifica_info('geek','uni'))"
   ]
  },
  {
   "cell_type": "code",
   "execution_count": 1,
   "metadata": {},
   "outputs": [
    {
     "name": "stdout",
     "output_type": "stream",
     "text": [
      "a cor favorita de Marcos é verde\n",
      "a cor favorita de Julia é azul\n"
     ]
    }
   ],
   "source": [
    "# Entendendo o (**kwargs)\n",
    "\n",
    "# Em vez de transformar os argumetos em tuplas, ele transforma em dicionarios.\n",
    "\n",
    "def cores(**kwargs):\n",
    "    for pessoa, cor in kwargs.items():\n",
    "        print(f'a cor favorita de {pessoa.title()} é {cor}')\n",
    "\n",
    "cores(marcos='verde', julia = 'azul')"
   ]
  },
  {
   "cell_type": "markdown",
   "metadata": {},
   "source": [
    "<h1>EXERCICIOS</h1>"
   ]
  },
  {
   "cell_type": "code",
   "execution_count": 3,
   "metadata": {},
   "outputs": [
    {
     "name": "stdout",
     "output_type": "stream",
     "text": [
      "10\n"
     ]
    }
   ],
   "source": [
    "#1\n",
    "def dobro(y):\n",
    "    return y*2\n",
    "\n",
    "x = int(input('digite um valor:'))\n",
    "print(dobro(x))"
   ]
  },
  {
   "cell_type": "code",
   "execution_count": 7,
   "metadata": {},
   "outputs": [
    {
     "name": "stdout",
     "output_type": "stream",
     "text": [
      "2 de jan de 2023\n"
     ]
    }
   ],
   "source": [
    "#2\n",
    "def data(d,m,a):\n",
    "    print(f'{d} de {m} de {a}')\n",
    "\n",
    "\n",
    "d = int(input('digite um dia'))\n",
    "m = str(input('digite um mes'))\n",
    "a = int(input('digite um ano'))\n",
    "\n",
    "data(d,m,a)\n",
    "\n"
   ]
  },
  {
   "cell_type": "code",
   "execution_count": 12,
   "metadata": {},
   "outputs": [
    {
     "name": "stdout",
     "output_type": "stream",
     "text": [
      "valor positivo = 5\n"
     ]
    }
   ],
   "source": [
    "#3\n",
    "def posi_neg(x):\n",
    "    if x < 0:\n",
    "        print(f'valor negativo = {x}')\n",
    "    elif x > 0:\n",
    "        print(f'valor positivo = {x}')\n",
    "    elif x == 0:\n",
    "        print(f'valor zerado = {x}')\n",
    "\n",
    "\n",
    "y = int(input('digite um valor: '))\n",
    "posi_neg(y)"
   ]
  },
  {
   "cell_type": "code",
   "execution_count": 19,
   "metadata": {},
   "outputs": [
    {
     "data": {
      "text/plain": [
       "44"
      ]
     },
     "execution_count": 19,
     "metadata": {},
     "output_type": "execute_result"
    }
   ],
   "source": [
    "#4\n",
    "sum = 0\n",
    "def entre(x,y):\n",
    "    sum = 0\n",
    "    for i in range(x + 1,y):\n",
    "      sum = sum + i\n",
    "    return sum\n",
    "\n",
    "x = int(input('digite um valor: '))\n",
    "y = int(input('digite um valor: '))\n",
    "\n",
    "entre(x,y)"
   ]
  },
  {
   "cell_type": "code",
   "execution_count": 22,
   "metadata": {},
   "outputs": [
    {
     "name": "stdout",
     "output_type": "stream",
     "text": [
      "6\n"
     ]
    }
   ],
   "source": [
    "#5\n",
    "\n",
    "def maior_valor(*args):\n",
    "    return max(args)\n",
    "\n",
    "tupla = 2,3,4,5,6\n",
    "print(maior_valor(*tupla))"
   ]
  }
 ],
 "metadata": {
  "kernelspec": {
   "display_name": "Python 3",
   "language": "python",
   "name": "python3"
  },
  "language_info": {
   "codemirror_mode": {
    "name": "ipython",
    "version": 3
   },
   "file_extension": ".py",
   "mimetype": "text/x-python",
   "name": "python",
   "nbconvert_exporter": "python",
   "pygments_lexer": "ipython3",
   "version": "3.11.7"
  }
 },
 "nbformat": 4,
 "nbformat_minor": 2
}
