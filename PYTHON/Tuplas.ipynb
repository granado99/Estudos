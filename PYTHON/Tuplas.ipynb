{
 "cells": [
  {
   "cell_type": "markdown",
   "metadata": {},
   "source": [
    "<h1>TUPLAS = ( ) </h1>"
   ]
  },
  {
   "cell_type": "code",
   "execution_count": null,
   "metadata": {},
   "outputs": [],
   "source": [
    "# As tuplas são imutáveis, elas nunca mudam!\n",
    "# Não muda nem a ordem, nada!\n",
    "# NÃO da pra ADICIONAR ou EXCLUIR valores\n",
    "\n",
    "\n",
    "# CUIDADO, estes 2 modos criam Tuplas.\n",
    "tupla = (1,2,3)\n",
    "tupla2 = 1,2,3\n",
    "\n",
    "# CUIDADO2, isso NÃO é uma Tupla\n",
    "N_tupla = (3)\n",
    "N_tupla2 = 3"
   ]
  },
  {
   "cell_type": "code",
   "execution_count": null,
   "metadata": {},
   "outputs": [],
   "source": [
    "# Criando Tupla com (range)\n",
    "\n",
    "tupla = tuple(range(11))\n",
    "print(tupla)"
   ]
  },
  {
   "cell_type": "code",
   "execution_count": null,
   "metadata": {},
   "outputs": [],
   "source": [
    "# Operadores\n",
    "tupla = (1,2,3,4)\n",
    "print(sum(tupla))\n",
    "print(max(tupla))\n",
    "print(min(tupla))\n",
    "print(len(tupla))"
   ]
  },
  {
   "cell_type": "code",
   "execution_count": null,
   "metadata": {},
   "outputs": [],
   "source": [
    "# Concatenação de Tuplas\n",
    "tupla1 = 1,2,3\n",
    "tupla2 = 3,2,1\n",
    "\n",
    "print(tupla1 + tupla2)\n",
    "\n",
    "# Tuplas são imutáveis, mas eu posso SOBREESCREVER os valores.! Ela não é uma constante!\n",
    "tupla1 = tupla1 + tupla2\n",
    "print(tupla1)\n"
   ]
  },
  {
   "cell_type": "code",
   "execution_count": null,
   "metadata": {},
   "outputs": [],
   "source": [
    "# Iterando elementos na tupla (FOR e WHILE)\n",
    "# Contagem de quantidade repetidas\n",
    "# Converter string em tupla"
   ]
  },
  {
   "cell_type": "code",
   "execution_count": null,
   "metadata": {},
   "outputs": [],
   "source": [
    "# Dicas na utilização de tuplas\n",
    "\n",
    "# Devemos utilizar sempre que não precisarmos modificar os dados contidos\n",
    "\n",
    "#EX 1: \n",
    "\n",
    "meses = ('jan', 'fev', 'mar')\n",
    "\n"
   ]
  },
  {
   "cell_type": "code",
   "execution_count": null,
   "metadata": {},
   "outputs": [],
   "source": [
    "# Acessando elementos da uma Tupla\n",
    "meses = ('jan', 'fev', 'mar')\n",
    "print(meses[1])\n"
   ]
  },
  {
   "cell_type": "code",
   "execution_count": null,
   "metadata": {},
   "outputs": [],
   "source": [
    "# POR QUE UTILIZAR TUPLAS\n",
    "\n",
    "# 1: TUPLAS SÃO MAIS RÁPIDAS QUE LISTAS\n",
    "# 2: TUPLAS DEIXAM O CÓDIGO MAIS SEGURO, PQ SÃO IMUTÁVEIS"
   ]
  },
  {
   "cell_type": "code",
   "execution_count": null,
   "metadata": {},
   "outputs": [],
   "source": []
  }
 ],
 "metadata": {
  "kernelspec": {
   "display_name": "Python 3",
   "language": "python",
   "name": "python3"
  },
  "language_info": {
   "codemirror_mode": {
    "name": "ipython",
    "version": 3
   },
   "file_extension": ".py",
   "mimetype": "text/x-python",
   "name": "python",
   "nbconvert_exporter": "python",
   "pygments_lexer": "ipython3",
   "version": "3.11.7"
  }
 },
 "nbformat": 4,
 "nbformat_minor": 2
}
