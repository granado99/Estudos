{
 "cells": [
  {
   "cell_type": "code",
   "execution_count": 31,
   "metadata": {},
   "outputs": [
    {
     "data": {
      "text/html": [
       "\n",
       "                <script type=\"application/javascript\" id=\"jupyter_black\">\n",
       "                (function() {\n",
       "                    if (window.IPython === undefined) {\n",
       "                        return\n",
       "                    }\n",
       "                    var msg = \"WARNING: it looks like you might have loaded \" +\n",
       "                        \"jupyter_black in a non-lab notebook with \" +\n",
       "                        \"`is_lab=True`. Please double check, and if \" +\n",
       "                        \"loading with `%load_ext` please review the README!\"\n",
       "                    console.log(msg)\n",
       "                    alert(msg)\n",
       "                })()\n",
       "                </script>\n",
       "                "
      ],
      "text/plain": [
       "<IPython.core.display.HTML object>"
      ]
     },
     "metadata": {},
     "output_type": "display_data"
    }
   ],
   "source": [
    "import random\n",
    "import pandas as pd\n",
    "import numpy as np\n",
    "import pyarrow\n",
    "import fastparquet\n",
    "import jupyter\n",
    "import jupyter_black\n",
    "import datetime\n",
    "import win32com.client as win32\n",
    "\n",
    "\n",
    "\n",
    "jupyter_black.load()"
   ]
  },
  {
   "cell_type": "markdown",
   "metadata": {},
   "source": [
    "<h1>RANDOM</h1>"
   ]
  },
  {
   "cell_type": "code",
   "execution_count": 3,
   "metadata": {},
   "outputs": [
    {
     "name": "stdout",
     "output_type": "stream",
     "text": [
      "0.593222130179879\n",
      "0.45283510797178483\n",
      "0.5046978604780591\n",
      "0.8560767929934923\n",
      "0.100034129146093\n",
      "0.04651745589838818\n",
      "0.8365828484913977\n",
      "0.354008757681893\n",
      "0.24529664294868303\n"
     ]
    }
   ],
   "source": [
    "for i in range(0,9):\n",
    "    print(random.random())"
   ]
  },
  {
   "cell_type": "code",
   "execution_count": 10,
   "metadata": {},
   "outputs": [
    {
     "name": "stdout",
     "output_type": "stream",
     "text": [
      "5, 43, 54, 27, 49, 23, "
     ]
    }
   ],
   "source": [
    "# Mega sena\n",
    "for i in range(6):\n",
    "    print(random.randint(1,61), end=', ')"
   ]
  },
  {
   "cell_type": "code",
   "execution_count": 15,
   "metadata": {},
   "outputs": [
    {
     "name": "stdout",
     "output_type": "stream",
     "text": [
      "4, 11, 16, 13, 9, 4, 19, 14, 12, 20, 17, "
     ]
    }
   ],
   "source": [
    "# Loto fácil\n",
    "\n",
    "for i in range(11):\n",
    "    print(random.randint(1,21), end=', ')"
   ]
  },
  {
   "cell_type": "code",
   "execution_count": 27,
   "metadata": {},
   "outputs": [
    {
     "name": "stdout",
     "output_type": "stream",
     "text": [
      "[3, 13, 15, 19, 23, 7, 18, 24, 4, 20, 22, 6, 25, 8, 11]\n"
     ]
    }
   ],
   "source": [
    "# Loto \n",
    "import random\n",
    "\n",
    "inicio_intervalo = 1\n",
    "fim_intervalo = 25\n",
    "\n",
    "\n",
    "numeros_possiveis = list(range(inicio_intervalo, fim_intervalo + 1))\n",
    "\n",
    "random.shuffle(numeros_possiveis)\n",
    "\n",
    "numeros = []\n",
    "for i in range(15):\n",
    "    #print(numeros_possiveis[i], end=', ')\n",
    "    numeros.append(numeros_possiveis[i])\n",
    "print(numeros)"
   ]
  },
  {
   "cell_type": "code",
   "execution_count": 30,
   "metadata": {},
   "outputs": [
    {
     "name": "stdout",
     "output_type": "stream",
     "text": [
      "[16, 57, 58, 59, 44, 18]\n"
     ]
    }
   ],
   "source": [
    "# Mega\n",
    "import random\n",
    "\n",
    "inicio_intervalo = 1\n",
    "fim_intervalo = 60\n",
    "\n",
    "\n",
    "numeros_possiveis = list(range(inicio_intervalo, fim_intervalo + 1))\n",
    "random.shuffle(numeros_possiveis)\n",
    "\n",
    "numeros = []\n",
    "for i in range(6):\n",
    "    #print(numeros_possiveis[i], end=', ')\n",
    "    numeros.append(numeros_possiveis[i])\n",
    "print(numeros)"
   ]
  },
  {
   "cell_type": "code",
   "execution_count": null,
   "metadata": {},
   "outputs": [],
   "source": [
    "# criando integração com outlook\n",
    "outlook = win32.Dispatch(\"outlook.application\")\n",
    "\n",
    "# criar email\n",
    "email = outlook.CreateItem(0)\n",
    "\n",
    "# configurar informações do meu email\n",
    "email.to = \"jean.rocha@crefaz.com.br\"\n",
    "email.Subject = \"Email automatico do python\"\n",
    "email.HTMLBody = \"\"\"\n",
    "<p>Olá, testando código python</p>\n",
    "\n",
    "<p>Tudo bem?</p>\n",
    "\"\"\"\n",
    "# Adicionando um anexo\n",
    "anexo = r\"Z:\\Usuários\\Henrique\\Projetos\\#0522 - Análise de Propostas - Análise de Acompanhamento\\Acompanhamento de propostas - Quinzenal.xlsx\"\n",
    "email.Attachments.Add(anexo)\n",
    "# enviar email\n",
    "email.Send()\n",
    "print(\"Email enviado!\")"
   ]
  },
  {
   "cell_type": "markdown",
   "metadata": {},
   "source": [
    "<h1>BUILT - IN = MODULOS QUE JA VEM INTEGRADOS NO PYTHON</h1>"
   ]
  },
  {
   "cell_type": "code",
   "execution_count": null,
   "metadata": {},
   "outputs": [],
   "source": []
  }
 ],
 "metadata": {
  "kernelspec": {
   "display_name": "Python 3",
   "language": "python",
   "name": "python3"
  },
  "language_info": {
   "codemirror_mode": {
    "name": "ipython",
    "version": 3
   },
   "file_extension": ".py",
   "mimetype": "text/x-python",
   "name": "python",
   "nbconvert_exporter": "python",
   "pygments_lexer": "ipython3",
   "version": "3.11.7"
  }
 },
 "nbformat": 4,
 "nbformat_minor": 2
}
