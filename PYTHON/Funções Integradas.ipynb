{
 "cells": [
  {
   "cell_type": "markdown",
   "metadata": {},
   "source": [
    "<h1>Funções Integradas</h1>"
   ]
  },
  {
   "cell_type": "code",
   "execution_count": 4,
   "metadata": {},
   "outputs": [
    {
     "name": "stdout",
     "output_type": "stream",
     "text": [
      "12.566370614359172\n",
      "[12.566370614359172, 78.53981633974483, 28.274333882308138, 50.26548245743669]\n",
      "[12.566370614359172, 78.53981633974483, 28.274333882308138, 50.26548245743669]\n"
     ]
    }
   ],
   "source": [
    "# MAP\n",
    "# Fazemos mapeamento de valores para função\n",
    "\n",
    "import math\n",
    "\n",
    "def area(r):\n",
    "    return math.pi * (r**2)\n",
    "\n",
    "print(area(2))\n",
    "\n",
    "\n",
    "raios = [2,5,3,4]\n",
    "areas = []\n",
    "for r in raios:\n",
    "    areas.append((area(r)))\n",
    "print(areas)\n",
    "\n",
    "\n",
    "# Com (MAP), ele pega o raios e passa na função area e cria a lista\n",
    "areas = map(area,raios)\n",
    "print(list(areas))"
   ]
  },
  {
   "cell_type": "code",
   "execution_count": 10,
   "metadata": {},
   "outputs": [
    {
     "name": "stdout",
     "output_type": "stream",
     "text": [
      "3.5\n",
      "3.5\n",
      "[4, 5, 6]\n"
     ]
    }
   ],
   "source": [
    "# FILTER\n",
    "# serve para filtrar dados de uma determinado coleção \n",
    "\n",
    "# 1 modo\n",
    "notas = 1,2,3,4,5,6\n",
    "media = (sum(notas)/ len(notas))\n",
    "print(media)\n",
    "\n",
    "# 2 modo\n",
    "import statistics\n",
    "notas2 = [1,2,3,4,5,6]\n",
    "media2= statistics.mean(notas2)\n",
    "print(media2)\n",
    "\n",
    "res = filter(lambda x: x > media, notas2)\n",
    "print(list(res))"
   ]
  },
  {
   "cell_type": "code",
   "execution_count": 11,
   "metadata": {},
   "outputs": [],
   "source": [
    "# REDUCE\n",
    "import functools\n"
   ]
  },
  {
   "cell_type": "code",
   "execution_count": null,
   "metadata": {},
   "outputs": [],
   "source": [
    "# ANY e ALL"
   ]
  },
  {
   "cell_type": "code",
   "execution_count": null,
   "metadata": {},
   "outputs": [],
   "source": [
    "# SORTED\n",
    "# serve para ordenar"
   ]
  },
  {
   "cell_type": "code",
   "execution_count": null,
   "metadata": {},
   "outputs": [],
   "source": [
    "# MIN E MAX"
   ]
  },
  {
   "cell_type": "code",
   "execution_count": null,
   "metadata": {},
   "outputs": [],
   "source": [
    "# REVERSED"
   ]
  },
  {
   "cell_type": "code",
   "execution_count": 15,
   "metadata": {},
   "outputs": [
    {
     "name": "stdout",
     "output_type": "stream",
     "text": [
      "10\n",
      "10.26\n",
      "10.24\n"
     ]
    }
   ],
   "source": [
    "# LEN, ABS (TIRA O ICONE DO NEGATIVO, SÓ MOSTRA O VALOR), SUM E ROUND (ARREDONDO OS VALORES)\n",
    "\n",
    "print(round(10.2))\n",
    "print(round(10.2555, 2))\n",
    "print(round(10.2445, 2))"
   ]
  },
  {
   "cell_type": "code",
   "execution_count": 26,
   "metadata": {},
   "outputs": [
    {
     "ename": "TypeError",
     "evalue": "'zip' object is not callable",
     "output_type": "error",
     "traceback": [
      "\u001b[1;31m---------------------------------------------------------------------------\u001b[0m",
      "\u001b[1;31mTypeError\u001b[0m                                 Traceback (most recent call last)",
      "Cell \u001b[1;32mIn[26], line 5\u001b[0m\n\u001b[0;32m      2\u001b[0m lista1 \u001b[38;5;241m=\u001b[39m [\u001b[38;5;241m1\u001b[39m,\u001b[38;5;241m2\u001b[39m,\u001b[38;5;241m3\u001b[39m]\n\u001b[0;32m      3\u001b[0m lista2 \u001b[38;5;241m=\u001b[39m [\u001b[38;5;241m4\u001b[39m,\u001b[38;5;241m5\u001b[39m,\u001b[38;5;241m6\u001b[39m]\n\u001b[1;32m----> 5\u001b[0m teste \u001b[38;5;241m=\u001b[39m \u001b[38;5;28;43mzip\u001b[39;49m\u001b[43m(\u001b[49m\u001b[43mlista1\u001b[49m\u001b[43m,\u001b[49m\u001b[43mlista2\u001b[49m\u001b[43m)\u001b[49m\n",
      "\u001b[1;31mTypeError\u001b[0m: 'zip' object is not callable"
     ]
    }
   ],
   "source": [
    "# ZIP\n",
    "lista1 = [1,2,3]\n",
    "lista2 = [4,5,6]\n",
    "\n",
    "zip1 = zip(lista1,lista2)\n",
    "print(list(zip1))\n"
   ]
  },
  {
   "cell_type": "code",
   "execution_count": null,
   "metadata": {},
   "outputs": [],
   "source": []
  }
 ],
 "metadata": {
  "kernelspec": {
   "display_name": "Python 3",
   "language": "python",
   "name": "python3"
  },
  "language_info": {
   "codemirror_mode": {
    "name": "ipython",
    "version": 3
   },
   "file_extension": ".py",
   "mimetype": "text/x-python",
   "name": "python",
   "nbconvert_exporter": "python",
   "pygments_lexer": "ipython3",
   "version": "3.11.7"
  }
 },
 "nbformat": 4,
 "nbformat_minor": 2
}
