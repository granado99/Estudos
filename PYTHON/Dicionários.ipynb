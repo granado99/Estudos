{
 "cells": [
  {
   "cell_type": "markdown",
   "metadata": {},
   "source": [
    "<H1>DICIONÁRIOS  =  {' ' : ' ', ' ' : ' ' } = MAPAS<H1> "
   ]
  },
  {
   "cell_type": "code",
   "execution_count": 2,
   "metadata": {},
   "outputs": [
    {
     "name": "stdout",
     "output_type": "stream",
     "text": [
      "{'br': 'Brasil', 'eua': 'Estados Unidos'}\n"
     ]
    }
   ],
   "source": [
    "# São coleções do tipo (CHAVE/VALOR), chaves nao podem ser repetidas\n",
    "\n",
    "pais = {'br': 'Brasil', 'eua': 'Estados Unidos'}\n",
    "print(pais)"
   ]
  },
  {
   "cell_type": "code",
   "execution_count": 4,
   "metadata": {},
   "outputs": [
    {
     "name": "stdout",
     "output_type": "stream",
     "text": [
      "Brasil\n"
     ]
    }
   ],
   "source": [
    "# Acessando elementos\n",
    "# Em vez de usar index, eu uso a própria chave em vez de index\n",
    "pais = {'br': 'Brasil', 'eua': 'Estados Unidos'}\n",
    "\n",
    "print(pais['br'])\n"
   ]
  },
  {
   "cell_type": "code",
   "execution_count": null,
   "metadata": {},
   "outputs": [],
   "source": [
    "# None = vazio\n",
    "# Usamos para criar uma variável para inicializá-la sem tipo\n"
   ]
  },
  {
   "cell_type": "code",
   "execution_count": 5,
   "metadata": {},
   "outputs": [
    {
     "name": "stdout",
     "output_type": "stream",
     "text": [
      "True\n"
     ]
    }
   ],
   "source": [
    "# Verificando se a chave tem no dicionario\n",
    "pais = {'br': 'Brasil', 'eua': 'Estados Unidos'}\n",
    "\n",
    "print('br' in pais)"
   ]
  },
  {
   "cell_type": "code",
   "execution_count": 8,
   "metadata": {},
   "outputs": [
    {
     "name": "stdout",
     "output_type": "stream",
     "text": [
      "{'jan': '1.900', 'fev': '2.500'}\n",
      "{'jan': '1.900', 'fev': '2.500', 'abr': 3.0}\n",
      "{'jan': '1.900', 'fev': '2.500', 'abr': 3.0, 'mai': '3.500'}\n"
     ]
    }
   ],
   "source": [
    "# Adicionando elementos no dicionário\n",
    "receita = {'jan': '1.900', 'fev': '2.500'}\n",
    "print(receita)\n",
    "\n",
    "# 1 Forma\n",
    "receita['abr'] = 3.000\n",
    "print(receita)\n",
    "\n",
    "\n",
    "# 2 Forma\n",
    "receita.update({'mai':'3.500'})\n",
    "print(receita)"
   ]
  },
  {
   "cell_type": "code",
   "execution_count": 9,
   "metadata": {},
   "outputs": [
    {
     "name": "stdout",
     "output_type": "stream",
     "text": [
      "{'jan': '1.900', 'fev': '2.500', 'mai': '4.500'}\n"
     ]
    }
   ],
   "source": [
    "# Atualizando dados = adicionar dados\n",
    "receita = {'jan': '1.900', 'fev': '2.500'}\n",
    "\n",
    "receita.update({'mai':'4.500'})\n",
    "print(receita)"
   ]
  },
  {
   "cell_type": "code",
   "execution_count": 12,
   "metadata": {},
   "outputs": [
    {
     "name": "stdout",
     "output_type": "stream",
     "text": [
      "{'jan': '1.900'}\n"
     ]
    }
   ],
   "source": [
    "# Removendo dados, é obrigado a informar a chave!\n",
    "receita = {'jan': '1.900', 'fev': '2.500'}\n",
    "\n",
    "# 1 Modo\n",
    "receita.pop('fev')\n",
    "print(receita)\n",
    "\n",
    "# 2 Modo\n",
    "del receita ('fev')"
   ]
  },
  {
   "cell_type": "code",
   "execution_count": 13,
   "metadata": {},
   "outputs": [
    {
     "name": "stdout",
     "output_type": "stream",
     "text": [
      "[['play4', 1, 2.5], ['jogo', 1, 200]]\n"
     ]
    }
   ],
   "source": [
    "# LISTA\n",
    "prod1 = ['play4',1,2.500]\n",
    "prod2 = ['jogo',1,200]\n",
    "\n",
    "carrinho = []\n",
    "carrinho.append(prod1)\n",
    "carrinho.append(prod2)\n",
    "print(carrinho)"
   ]
  },
  {
   "cell_type": "code",
   "execution_count": 17,
   "metadata": {},
   "outputs": [
    {
     "name": "stdout",
     "output_type": "stream",
     "text": [
      "(('play4', 1, 2.5), ('jogo', 1, 200))\n"
     ]
    }
   ],
   "source": [
    "# TUPLA\n",
    "prod1 = ('play4',1,2.500)\n",
    "prod2 = ('jogo',1,200)\n",
    "\n",
    "carrinho = prod1,prod2\n",
    "\n",
    "print(carrinho)"
   ]
  },
  {
   "cell_type": "code",
   "execution_count": 16,
   "metadata": {},
   "outputs": [
    {
     "name": "stdout",
     "output_type": "stream",
     "text": [
      "[{'nome': 'play4', 'qtd': '1', 'valor': '2.500'}, {'nome': 'jogo', 'qtd': '1', 'valor': '200'}]\n"
     ]
    }
   ],
   "source": [
    "# DICIONÁRIO\n",
    "# Me da mais detalhes, consigo achar mais fácil o que quero, pq sei o nome do indice, e nao o numero.\n",
    "prod1 = {'nome': 'play4','qtd':'1','valor': '2.500'}\n",
    "prod2 = {'nome': 'jogo','qtd':'1','valor': '200'}\n",
    "\n",
    "carrinho = []\n",
    "carrinho.append(prod1)\n",
    "carrinho.append(prod2)\n",
    "print(carrinho)"
   ]
  },
  {
   "cell_type": "code",
   "execution_count": 18,
   "metadata": {},
   "outputs": [
    {
     "name": "stdout",
     "output_type": "stream",
     "text": [
      "[{'nome': 'play4', 'qtd': '1', 'valor': '2.500'}, {'nome': 'jogo', 'qtd': '1', 'valor': '200'}]\n"
     ]
    }
   ],
   "source": [
    "# Copiando um dicinario\n",
    "\n",
    "prod1 = {'nome': 'play4','qtd':'1','valor': '2.500'}\n",
    "prod2 = {'nome': 'jogo','qtd':'1','valor': '200'}\n",
    "\n",
    "carrinho = []\n",
    "carrinho.append(prod1)\n",
    "carrinho.append(prod2)\n",
    "print(carrinho)\n",
    "\n",
    "\n",
    "\n",
    "novo = carrinho.copy() # deep copy\n"
   ]
  },
  {
   "cell_type": "code",
   "execution_count": 20,
   "metadata": {},
   "outputs": [
    {
     "name": "stdout",
     "output_type": "stream",
     "text": [
      "nome\n",
      "qtd\n",
      "valor\n",
      "jogo\n",
      "1\n",
      "200\n"
     ]
    }
   ],
   "source": [
    "# Iteração \n",
    "prod2 = {'nome': 'jogo','qtd':'1','valor': '200'}\n",
    "\n",
    "for chave in prod2:\n",
    "    print(chave)\n",
    "\n",
    "for chave in prod2:\n",
    "    print(prod2[chave])\n"
   ]
  },
  {
   "cell_type": "code",
   "execution_count": null,
   "metadata": {},
   "outputs": [],
   "source": [
    "# Operadores, so consigo fazer calculos se forem inteiros ou reais"
   ]
  }
 ],
 "metadata": {
  "kernelspec": {
   "display_name": "Python 3",
   "language": "python",
   "name": "python3"
  },
  "language_info": {
   "codemirror_mode": {
    "name": "ipython",
    "version": 3
   },
   "file_extension": ".py",
   "mimetype": "text/x-python",
   "name": "python",
   "nbconvert_exporter": "python",
   "pygments_lexer": "ipython3",
   "version": "3.11.7"
  }
 },
 "nbformat": 4,
 "nbformat_minor": 2
}
