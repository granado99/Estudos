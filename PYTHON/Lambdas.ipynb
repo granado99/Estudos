{
 "cells": [
  {
   "cell_type": "markdown",
   "metadata": {},
   "source": [
    "<h1>LAMBDAS</h1>"
   ]
  },
  {
   "cell_type": "code",
   "execution_count": 1,
   "metadata": {},
   "outputs": [
    {
     "name": "stdout",
     "output_type": "stream",
     "text": [
      "13\n"
     ]
    }
   ],
   "source": [
    "# São funções sem nomes, ou seja, anônimas!\n",
    "\n",
    "#função normal\n",
    "\n",
    "def teste(a):\n",
    "    return 3*a + 1\n",
    "\n",
    "print(teste(4))"
   ]
  },
  {
   "cell_type": "code",
   "execution_count": 2,
   "metadata": {},
   "outputs": [
    {
     "name": "stdout",
     "output_type": "stream",
     "text": [
      "13\n"
     ]
    }
   ],
   "source": [
    "# função com Lambda, Estrutura.\n",
    "# lambda parametros: algorítimo\n",
    "\n",
    "lambda a: 3 * a + 1 \n",
    "\n",
    "# usando a lambda\n",
    "calc = lambda a: 3 * a + 1\n",
    "print(calc(4))"
   ]
  },
  {
   "cell_type": "code",
   "execution_count": 3,
   "metadata": {},
   "outputs": [
    {
     "name": "stdout",
     "output_type": "stream",
     "text": [
      "Henrique Granado\n"
     ]
    }
   ],
   "source": [
    "# ex, pode ter varios parametros\n",
    "\n",
    "nome = lambda nome,sobrenome: nome.strip().title() + ' ' + sobrenome.strip().title()\n",
    "print(nome('henrique', 'granado'))"
   ]
  },
  {
   "cell_type": "code",
   "execution_count": null,
   "metadata": {},
   "outputs": [],
   "source": []
  }
 ],
 "metadata": {
  "kernelspec": {
   "display_name": "Python 3",
   "language": "python",
   "name": "python3"
  },
  "language_info": {
   "codemirror_mode": {
    "name": "ipython",
    "version": 3
   },
   "file_extension": ".py",
   "mimetype": "text/x-python",
   "name": "python",
   "nbconvert_exporter": "python",
   "pygments_lexer": "ipython3",
   "version": "3.11.7"
  }
 },
 "nbformat": 4,
 "nbformat_minor": 2
}
