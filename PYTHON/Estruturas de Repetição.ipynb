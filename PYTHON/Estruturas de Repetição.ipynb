{
 "cells": [
  {
   "cell_type": "markdown",
   "metadata": {},
   "source": [
    "<H1>FOR</H1>"
   ]
  },
  {
   "cell_type": "code",
   "execution_count": null,
   "metadata": {},
   "outputs": [],
   "source": [
    "# EXEMPLOS DE ITERÁVEIS:\n",
    "# String = 'henrique'\n",
    "# Lista = [1,2,3]\n",
    "# range = range(1,10) (INICIAL, FINAL -1)\n",
    "\n",
    "# ''FOR'' EU SEI QUANDO VAI ACABAR\n",
    "\n",
    "nome = 'Henrique'\n",
    "lista = [1,2,3,4]\n",
    "lista_preço = [1000,2000,3000]\n",
    "num = range(1,10)\n",
    "\n",
    "\n",
    "for letra in nome: # ITERANDO UMA STRING\n",
    "    print(letra)\n",
    "\n",
    "\n",
    "for numero in lista: # ITERANDO UMA LISTA\n",
    "    print(numero)\n",
    "\n",
    "\n",
    "for numero in num:  # ITERANDO UM RANGE\n",
    "    print(numero)\n",
    "\n",
    "\n",
    "for salario in lista_preço:\n",
    "    print(salario + 500)\n",
    "\n"
   ]
  },
  {
   "cell_type": "code",
   "execution_count": null,
   "metadata": {},
   "outputs": [],
   "source": [
    "produtos = ['faca', 'garfo', 'panela']    # LISTAS\n",
    "\n",
    "for produto in produtos:\n",
    "    print(produto.capitalize())\n",
    "\n",
    "\n",
    "preços = [10,20,30]          # LISTAS\n",
    "for preço in preços:\n",
    "    imposto = preço * 0.1\n",
    "    print(imposto)"
   ]
  },
  {
   "cell_type": "code",
   "execution_count": null,
   "metadata": {},
   "outputs": [],
   "source": [
    "# DICIONÁRIOS\n",
    "produtos = {\n",
    "    \"faca\": 10,\n",
    "    \"garfo\": 20,\n",
    "}\n",
    "\n",
    "for produto in produtos:\n",
    "    print(produto)\n",
    "    print(produtos[produto])"
   ]
  },
  {
   "cell_type": "code",
   "execution_count": null,
   "metadata": {},
   "outputs": [],
   "source": [
    "# range (5) = [0,1,2,3,4]\n",
    "\n",
    "for i in range(5):\n",
    "    print('henrique')"
   ]
  },
  {
   "cell_type": "markdown",
   "metadata": {},
   "source": [
    "<H1>RANGES</H1>"
   ]
  },
  {
   "cell_type": "code",
   "execution_count": null,
   "metadata": {},
   "outputs": [],
   "source": [
    "# USADO PARA GERAR SEQUENCIAS NUMERICAS \n",
    "# RANGE (VALOR DE PARADA)\n",
    "\n",
    "for num in range(11): #[0,1,2,3,4...]\n",
    "    print(num)\n",
    "\n",
    "\n",
    "for num1 in range(1,11): #[1,2,3...10]\n",
    "    print(num1)\n",
    "\n",
    "\n",
    "for num2 in range(1,11,2): #[1,3,5,7,9] ---> pula de 2 em 2\n",
    "    print(num2)\n",
    "\n",
    "\n",
    "for num3 in range(10,0,-1): # [10,9,8,7,6,5,4,...1]\n",
    "    print(num3)"
   ]
  },
  {
   "cell_type": "markdown",
   "metadata": {},
   "source": [
    "<H1>WHILE</H1>"
   ]
  },
  {
   "cell_type": "code",
   "execution_count": null,
   "metadata": {},
   "outputs": [],
   "source": [
    "# ACONTECE ENQUANTO FOR VERDADE (TRUE).\n",
    "# TEMOS QUE CONTROLAR O CRITÉRIO DE PARADA! SE NAO, FICA INFINITO!\n",
    "num = 1\n",
    "\n",
    "while num < 10:\n",
    "    print(num)\n",
    "    num = num + 1\n"
   ]
  },
  {
   "cell_type": "code",
   "execution_count": null,
   "metadata": {},
   "outputs": [],
   "source": [
    "resp = ''\n",
    "while resp != 'sim':\n",
    "    resp = input(\"ja acabou jessica? \")"
   ]
  },
  {
   "cell_type": "markdown",
   "metadata": {},
   "source": [
    "<H1>BREAKS</H1>"
   ]
  },
  {
   "cell_type": "code",
   "execution_count": 18,
   "metadata": {},
   "outputs": [
    {
     "name": "stdout",
     "output_type": "stream",
     "text": [
      "1\n",
      "2\n",
      "3\n",
      "4\n",
      "5\n"
     ]
    }
   ],
   "source": [
    "# USADO PARA SAIR DO LOOP DE FORMA PLANEJADA!\n",
    "for i in range(1,10):\n",
    "    if i == 6:\n",
    "        break\n",
    "    else:\n",
    "        print(i)"
   ]
  },
  {
   "cell_type": "code",
   "execution_count": 19,
   "metadata": {},
   "outputs": [],
   "source": [
    "while True: # ---> É IGUAL UM LOOP INFINITO\n",
    "    comando = input(\"digite 'sair' para sair: \")\n",
    "    if comando == \"sair\":\n",
    "        break\n",
    "    "
   ]
  },
  {
   "cell_type": "code",
   "execution_count": null,
   "metadata": {},
   "outputs": [],
   "source": []
  }
 ],
 "metadata": {
  "kernelspec": {
   "display_name": "Python 3",
   "language": "python",
   "name": "python3"
  },
  "language_info": {
   "codemirror_mode": {
    "name": "ipython",
    "version": 3
   },
   "file_extension": ".py",
   "mimetype": "text/x-python",
   "name": "python",
   "nbconvert_exporter": "python",
   "pygments_lexer": "ipython3",
   "version": "3.11.7"
  }
 },
 "nbformat": 4,
 "nbformat_minor": 2
}
