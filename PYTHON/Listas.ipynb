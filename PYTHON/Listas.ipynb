{
 "cells": [
  {
   "cell_type": "markdown",
   "metadata": {},
   "source": [
    "<h1>LISTAS = VETORES = ARRAYS = [ ]</h1>"
   ]
  },
  {
   "cell_type": "code",
   "execution_count": null,
   "metadata": {},
   "outputs": [],
   "source": [
    "# É DINAMICO E POSSO COLOCAR QUALQUER TIPO DE DADOS\n",
    "\n",
    "# DINAMICO: não possui tamanho fixo, podemos criar a lista e ir adicionando elementos enquanto tiver memorias disponiveis.\n",
    "\n",
    "# QUALQUER TIPO DE DADO: não tem tipo fixo, posso por qualquer tipo\n",
    "\n",
    "# REPRESENTAÇÃO:   []"
   ]
  },
  {
   "cell_type": "code",
   "execution_count": null,
   "metadata": {},
   "outputs": [],
   "source": [
    "lista1 = [1,2,3,4,5]\n",
    "lista2 = ['a', 'b', 'c', 'd', 'e']\n",
    "lista3 = []\n",
    "lista4 = list(range(11)) # cria uma lista com os valores do range\n",
    "lista5 = list('henrique')\n",
    "\n",
    "print(lista5)"
   ]
  },
  {
   "cell_type": "code",
   "execution_count": null,
   "metadata": {},
   "outputs": [],
   "source": [
    "# Checando se valor esta dentro da lista\n",
    "lista1 = [1,2,3,4,5]\n",
    "\n",
    "if 7 in lista1:\n",
    "    print('esta')\n",
    "else:\n",
    "    print('nao esta')"
   ]
  },
  {
   "cell_type": "code",
   "execution_count": null,
   "metadata": {},
   "outputs": [],
   "source": [
    "# Ordenando uma lista (sort)\n",
    "lista1 = [1,2,3,4,5,0]\n",
    "lista1.sort() \n",
    "print(lista1)"
   ]
  },
  {
   "cell_type": "code",
   "execution_count": null,
   "metadata": {},
   "outputs": [],
   "source": [
    "# Contar numeros repetidos da lista (count)\n",
    "lista1 = [1,2,3,4,5,0,1,1]\n",
    "print(lista1.count(1))"
   ]
  },
  {
   "cell_type": "code",
   "execution_count": null,
   "metadata": {},
   "outputs": [],
   "source": [
    "# Adicionar elementos em listas (append), com essa função é apenas 1 elemento por vez\n",
    "lista1 = [1,2,3,4,5,0,1,1]\n",
    "lista1.append(10)\n",
    "print(lista1)\n",
    "\n",
    "\n",
    "# Adiciona varios de uma vez (extend), só aceita ([ ]) uma lista, isto é, add varios de uma vez.\n",
    "lista1.extend([20,30,40])\n",
    "print(lista1)\n",
    "\n",
    "\n",
    "# Adicionando elemento na lista no lugar desejado (inset)\n",
    "lista1.insert(0,100)\n",
    "print(lista1)\n",
    "\n",
    "\n",
    "# Podemos juntar 2 listas, igual o (extend)\n",
    "lista2 = ['a', 'b', 'c', 'd', 'e']\n",
    "\n",
    "lista7 = lista1 + lista2\n",
    "print(lista7)"
   ]
  },
  {
   "cell_type": "code",
   "execution_count": null,
   "metadata": {},
   "outputs": [],
   "source": [
    "# Imprimindo lista de ordem reversa (reverse) ou [::-1]\n",
    "lista2 = ['a', 'b', 'c', 'd', 'e']\n",
    "lista2.reverse()\n",
    "lista2[::-1]\n",
    "print(lista2)"
   ]
  },
  {
   "cell_type": "code",
   "execution_count": 3,
   "metadata": {},
   "outputs": [
    {
     "name": "stdout",
     "output_type": "stream",
     "text": [
      "['a', 'b', 'c', 'd', 'e']\n",
      "['a', 'b', 'c', 'd', 'e', 4]\n"
     ]
    }
   ],
   "source": [
    "# Copiando uma lista (copy)\n",
    "lista2 = ['a', 'b', 'c', 'd', 'e']\n",
    "lista10 = lista2.copy()               ### DEEP COPY = O que eu altero na lista nova, nao altera na antiga!\n",
    "print(lista10)\n",
    "lista10.append(4)\n",
    "print(lista10)\n",
    "\n",
    "\n",
    "listanova = lista2                    ### SHALLOW COPY = O que eu altero na copia, altera na antiga também!\n",
    "\n"
   ]
  },
  {
   "cell_type": "code",
   "execution_count": null,
   "metadata": {},
   "outputs": [],
   "source": [
    "# Contar quantos elemetos tem na lista (len)\n",
    "lista2 = ['a', 'b', 'c', 'd', 'e']\n",
    "len(lista2)"
   ]
  },
  {
   "cell_type": "code",
   "execution_count": null,
   "metadata": {},
   "outputs": [],
   "source": [
    "# Removendo o ultimo elemento (pop)\n",
    "lista2 = ['a', 'b', 'c', 'd', 'e']\n",
    "lista2.pop()\n",
    "print(lista2)\n",
    "\n",
    "\n",
    "# Removendo o elemento do índice que eu escolher pop(2)\n",
    "lista2.pop(0)\n",
    "print(lista2)\n",
    "\n",
    "\n",
    "# Removendo todos elementos (clear)\n",
    "lista2.clear()\n",
    "print(lista2)\n"
   ]
  },
  {
   "cell_type": "code",
   "execution_count": null,
   "metadata": {},
   "outputs": [],
   "source": [
    "# Podemos repetir elemento em uma lista\n",
    "lista20 = [1,2,3]\n",
    "lista20 = lista20 * 3\n",
    "print(lista20)"
   ]
  },
  {
   "cell_type": "code",
   "execution_count": null,
   "metadata": {},
   "outputs": [],
   "source": [
    "# Convertendo string em lista (spli) = delimitador do excel\n",
    "texto = \"henrique granado de souza\"\n",
    "texto =texto.split()\n",
    "print(texto)\n",
    "\n",
    "# Convertendo uma lista em string (join)\n",
    "texto = ' '.join(texto)\n",
    "print(texto)\n",
    "\n"
   ]
  },
  {
   "cell_type": "code",
   "execution_count": null,
   "metadata": {},
   "outputs": [],
   "source": [
    "# Iterando sobre listas - FOR\n",
    "\n",
    "lista100 = [1,2,3,4,5]\n",
    "\n",
    "for elemento in lista100:\n",
    "    print(elemento)\n",
    "\n",
    "# Iterando sobre listas - WHILE\n",
    "Carrinho = []\n",
    "Produto = \"\" \n",
    "\n",
    "while Produto != \"sair\":\n",
    "    Produto = str(input('digite um produto ou sair: '))\n",
    "    Carrinho.append(Produto)\n",
    "Carrinho.pop()\n",
    "print(Carrinho)\n"
   ]
  },
  {
   "cell_type": "code",
   "execution_count": null,
   "metadata": {},
   "outputs": [],
   "source": [
    "# Acessando elementos por index\n",
    "cores = [\"verde\", \"amarelo\"]\n",
    "print(cores[0])\n",
    "\n",
    "\n",
    "indice = 0\n",
    "while indice < len(cores):\n",
    "    print(cores[indice])\n",
    "    indice += 1\n",
    "\n",
    "for indice, cor in enumerate(cores):\n",
    "    print(indice,cor)"
   ]
  },
  {
   "cell_type": "code",
   "execution_count": null,
   "metadata": {},
   "outputs": [],
   "source": [
    "# Encontrar um indice de um produto\n",
    "numeros = [5,\"playstation\",7,8,9,10]\n",
    "\n",
    "print(numeros.index(\"playstation\"))\n",
    "\n",
    "\n",
    "numeros2 = [5,\"playstation\",7,8,9,10]\n",
    "\n",
    "print(numeros.index(7, 1, 4)) # procura numero 7 entre os indices 1 e 4"
   ]
  },
  {
   "cell_type": "code",
   "execution_count": 1,
   "metadata": {},
   "outputs": [
    {
     "name": "stdout",
     "output_type": "stream",
     "text": [
      "[4, 3, 2, 1]\n"
     ]
    }
   ],
   "source": [
    "# Revisando o Slicing [inicio, fim , passo] = [::-1]\n",
    "lista = [1,2,3,4]\n",
    "print(lista[::-1])"
   ]
  },
  {
   "cell_type": "code",
   "execution_count": 2,
   "metadata": {},
   "outputs": [
    {
     "name": "stdout",
     "output_type": "stream",
     "text": [
      "10\n",
      "4\n",
      "1\n",
      "4\n"
     ]
    }
   ],
   "source": [
    "# Operadores \n",
    "lista = [1,2,3,4]\n",
    "print(sum(lista))\n",
    "print(max(lista))\n",
    "print(min(lista))\n",
    "print(len(lista))\n"
   ]
  },
  {
   "cell_type": "markdown",
   "metadata": {},
   "source": [
    "<h1>EXERCÍCIOS</h1>"
   ]
  },
  {
   "cell_type": "code",
   "execution_count": 10,
   "metadata": {},
   "outputs": [
    {
     "name": "stdout",
     "output_type": "stream",
     "text": [
      "8\n",
      "[1, 0, 5, -2, 100, 7]\n",
      "1\n",
      "0\n",
      "5\n",
      "-2\n",
      "100\n",
      "7\n"
     ]
    }
   ],
   "source": [
    "#1\n",
    "\n",
    "A = [1,0,5,-2,-5,7]\n",
    "\n",
    "soma = A[0] + A[1] + A[5]\n",
    "print(soma)\n",
    "\n",
    "A[4] = 100\n",
    "print(A)\n",
    "\n",
    "for elemento in A:\n",
    "    print(elemento)"
   ]
  },
  {
   "cell_type": "code",
   "execution_count": 16,
   "metadata": {},
   "outputs": [
    {
     "name": "stdout",
     "output_type": "stream",
     "text": [
      "[1, 2, 3, 4, 5]\n"
     ]
    }
   ],
   "source": [
    "#2\n",
    "valores = []\n",
    "for elemento in range(5):\n",
    "    valores.append(int(input('digite seis valores inteiros:')))\n",
    "print(valores)"
   ]
  },
  {
   "cell_type": "code",
   "execution_count": 20,
   "metadata": {},
   "outputs": [
    {
     "name": "stdout",
     "output_type": "stream",
     "text": [
      "[1.0, 2.0, 3.0, 4.0]\n",
      "[1.0, 4.0, 9.0, 16.0]\n"
     ]
    }
   ],
   "source": [
    "#3\n",
    "reais = []\n",
    "valor = []\n",
    "\n",
    "for elemento in range(4):\n",
    "    valor_digital = float(input(\"digite valores: \"))\n",
    "    reais.append(valor_digital)\n",
    "    quadrado = valor_digital**2\n",
    "    valor.append(quadrado)\n",
    "print(reais)\n",
    "print(valor)"
   ]
  },
  {
   "cell_type": "code",
   "execution_count": 29,
   "metadata": {},
   "outputs": [
    {
     "name": "stdout",
     "output_type": "stream",
     "text": [
      "[1, 2, 3, 4, 5]\n",
      "5\n",
      "4\n"
     ]
    }
   ],
   "source": [
    "#4\n",
    "vetor = []\n",
    "\n",
    "for elemento in range(5):\n",
    "    valor_digitado = int(input(\"digite: \"))\n",
    "    vetor.append(valor_digitado)\n",
    "print(vetor)\n",
    "print(max(vetor))\n",
    "print(vetor.index(max(vetor)))"
   ]
  }
 ],
 "metadata": {
  "kernelspec": {
   "display_name": "Python 3",
   "language": "python",
   "name": "python3"
  },
  "language_info": {
   "codemirror_mode": {
    "name": "ipython",
    "version": 3
   },
   "file_extension": ".py",
   "mimetype": "text/x-python",
   "name": "python",
   "nbconvert_exporter": "python",
   "pygments_lexer": "ipython3",
   "version": "3.11.7"
  }
 },
 "nbformat": 4,
 "nbformat_minor": 2
}
