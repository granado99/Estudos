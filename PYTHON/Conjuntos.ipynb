{
 "cells": [
  {
   "cell_type": "markdown",
   "metadata": {},
   "source": [
    "<H1>CONJUNTOS = SETS = { }<H1> "
   ]
  },
  {
   "cell_type": "code",
   "execution_count": 1,
   "metadata": {},
   "outputs": [
    {
     "name": "stdout",
     "output_type": "stream",
     "text": [
      "{1, 2, 3, 4}\n"
     ]
    }
   ],
   "source": [
    "# Conjuntos não possuem valores duplicados\n",
    "# Conjuntos não possuem valores ordenados\n",
    "# Conjuntos não são indexados\n",
    "\n",
    "\n",
    "# Conjuntos são bons para armazenar elementos, mas nao importamos com a ordem deles\n",
    "# Conjuntos não tem chaves, apenas o valor\n",
    "# Conjuntos excluem valores ja existentes\n",
    "\n",
    "\n",
    "\n",
    "s = set({1,2,3,4,3}) # repare que tem valor repetido\n",
    "print(s)"
   ]
  },
  {
   "cell_type": "code",
   "execution_count": 5,
   "metadata": {},
   "outputs": [
    {
     "name": "stdout",
     "output_type": "stream",
     "text": [
      "4\n",
      "3\n",
      "['Bastos', 'Maringa', 'PP', 'Bastos']\n"
     ]
    }
   ],
   "source": [
    "# Ex\n",
    "\n",
    "cidades = ['Bastos','Maringa','PP','Bastos']\n",
    "print(len(cidades)) #4 pessoas diferentes visitaram \n",
    "\n",
    "print(len(set(cidades))) # só quis saber quais cidades aparecem\n",
    "\n"
   ]
  },
  {
   "cell_type": "code",
   "execution_count": 8,
   "metadata": {},
   "outputs": [
    {
     "name": "stdout",
     "output_type": "stream",
     "text": [
      "{1, 3, 4}\n"
     ]
    }
   ],
   "source": [
    "# Adicionando e excluindo\n",
    "s = {1,2,3}\n",
    "\n",
    "s.add(4)\n",
    "s.remove(2)\n",
    "\n",
    "print(s)"
   ]
  },
  {
   "cell_type": "code",
   "execution_count": 10,
   "metadata": {},
   "outputs": [
    {
     "name": "stdout",
     "output_type": "stream",
     "text": [
      "{1, 2, 3}\n"
     ]
    }
   ],
   "source": [
    "# Copiando\n",
    "s = {1,2,3}\n",
    "\n",
    "novo = s.copy()\n",
    "print(novo)"
   ]
  },
  {
   "cell_type": "code",
   "execution_count": 15,
   "metadata": {},
   "outputs": [
    {
     "name": "stdout",
     "output_type": "stream",
     "text": [
      "{1, 2, 3, 4, 5, 6}\n"
     ]
    }
   ],
   "source": [
    "# Unindo 2 conjuntos igual da matemarica\n",
    "\n",
    "s = {1,2,3}\n",
    "y = {4,5,6,2}\n",
    "\n",
    "uniao = s.union(y)\n",
    "print(uniao)"
   ]
  },
  {
   "cell_type": "code",
   "execution_count": 16,
   "metadata": {},
   "outputs": [
    {
     "name": "stdout",
     "output_type": "stream",
     "text": [
      "{2}\n"
     ]
    }
   ],
   "source": [
    "# intersecção\n",
    "s = {1,2,3}\n",
    "y = {4,5,6,2}\n",
    "\n",
    "ambos = s.intersection(y)\n",
    "print(ambos)\n"
   ]
  },
  {
   "cell_type": "code",
   "execution_count": 17,
   "metadata": {},
   "outputs": [
    {
     "name": "stdout",
     "output_type": "stream",
     "text": [
      "{1, 3}\n"
     ]
    }
   ],
   "source": [
    "# diferente\n",
    "s = {1,2,3}\n",
    "y = {4,5,6,2}\n",
    "\n",
    "diferente = s.difference(y)\n",
    "print(diferente)"
   ]
  },
  {
   "cell_type": "code",
   "execution_count": null,
   "metadata": {},
   "outputs": [],
   "source": []
  }
 ],
 "metadata": {
  "kernelspec": {
   "display_name": "Python 3",
   "language": "python",
   "name": "python3"
  },
  "language_info": {
   "codemirror_mode": {
    "name": "ipython",
    "version": 3
   },
   "file_extension": ".py",
   "mimetype": "text/x-python",
   "name": "python",
   "nbconvert_exporter": "python",
   "pygments_lexer": "ipython3",
   "version": "3.11.7"
  }
 },
 "nbformat": 4,
 "nbformat_minor": 2
}
