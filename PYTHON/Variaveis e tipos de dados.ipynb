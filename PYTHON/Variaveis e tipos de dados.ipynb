{
 "cells": [
  {
   "cell_type": "markdown",
   "metadata": {},
   "source": [
    "<H1>TIPO NUMÉRICO </H1>"
   ]
  },
  {
   "cell_type": "code",
   "execution_count": null,
   "metadata": {},
   "outputs": [],
   "source": [
    "## // = ELE ME DA SÓ O NUMERO INTEIRO\n",
    "\n",
    "\n",
    "\n",
    "## % = MOSTRA O RESTO DA DIVISAO\n",
    "\n",
    "\n",
    "\n",
    "## NUM = NUM + 1            ==>          NUM += 1\n",
    "\n",
    "\n",
    "num = 1_000_000  ## posso colocar '_' para facilitar a visualização dos numeros"
   ]
  },
  {
   "cell_type": "markdown",
   "metadata": {},
   "source": [
    "<H1>TIPO FLOAT</H1>"
   ]
  },
  {
   "cell_type": "code",
   "execution_count": null,
   "metadata": {},
   "outputs": [],
   "source": [
    "##  É SEPARADO POR '.' E NAO POR VIRGULAS\n",
    "\n",
    "num = 1.44\n",
    "inteiro = int(num)\n",
    "print(num)\n",
    "print(inteiro)"
   ]
  },
  {
   "cell_type": "markdown",
   "metadata": {},
   "source": [
    "<H1>TIPO BOOLEANO</H1>"
   ]
  },
  {
   "cell_type": "code",
   "execution_count": null,
   "metadata": {},
   "outputs": [],
   "source": [
    "## True ou False \n",
    "## not (inverso)\n",
    "\n",
    "ativo = True\n",
    "print(not ativo)\n",
    "\n",
    "## or \n",
    "## and\n"
   ]
  },
  {
   "cell_type": "markdown",
   "metadata": {},
   "source": [
    "<H1>TIPO STRING</H1>"
   ]
  },
  {
   "cell_type": "code",
   "execution_count": null,
   "metadata": {},
   "outputs": [],
   "source": [
    "nome = 'teste henrique'\n",
    "maiusculo = nome.upper()\n",
    "minusculo = nome.lower()\n",
    "criar_lista = nome.split()  \n",
    "inveter = nome[::-1]\n",
    "trocar_lugar = nome.replace('h','H')\n",
    "\n",
    "\n",
    "\n",
    "print(criar_lista)\n",
    "print(inveter)\n",
    "print(trocar_lugar)"
   ]
  },
  {
   "cell_type": "markdown",
   "metadata": {},
   "source": [
    "<H1>ESCOPO DE VARIÁVEIS</H1>"
   ]
  },
  {
   "cell_type": "code",
   "execution_count": null,
   "metadata": {},
   "outputs": [],
   "source": [
    "# 1 - VARIÁVEIS GLOBAIS\n",
    "        # - SEU ESCOPO COMPREENDE TODO O PROGRAMA\n",
    "\n",
    "num = 42\n",
    "print(num)\n",
    "\n",
    "\n",
    "\n",
    "# 2 - VARIÁVEIS LOCAIS\n",
    "        # - SEU ESCOPO COMPREENDE APENAS ONDE FOI DECLARADA\n",
    "\n",
    "numero = 2\n",
    "if numero >10:\n",
    "    novo = numero + 10\n",
    "    print(novo)\n",
    "\n",
    "print(novo)"
   ]
  },
  {
   "cell_type": "markdown",
   "metadata": {},
   "source": [
    "<H1>EXERCÍCIOS</H1>"
   ]
  },
  {
   "cell_type": "code",
   "execution_count": null,
   "metadata": {},
   "outputs": [],
   "source": []
  }
 ],
 "metadata": {
  "kernelspec": {
   "display_name": "Python 3",
   "language": "python",
   "name": "python3"
  },
  "language_info": {
   "codemirror_mode": {
    "name": "ipython",
    "version": 3
   },
   "file_extension": ".py",
   "mimetype": "text/x-python",
   "name": "python",
   "nbconvert_exporter": "python",
   "pygments_lexer": "ipython3",
   "version": "3.12.1"
  }
 },
 "nbformat": 4,
 "nbformat_minor": 2
}
