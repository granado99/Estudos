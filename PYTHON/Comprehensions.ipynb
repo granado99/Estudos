{
 "cells": [
  {
   "cell_type": "markdown",
   "metadata": {},
   "source": [
    "<h1>LIST COMPREHENSION</h1>"
   ]
  },
  {
   "cell_type": "code",
   "execution_count": 2,
   "metadata": {},
   "outputs": [
    {
     "name": "stdout",
     "output_type": "stream",
     "text": [
      "[10, 20, 30, 40, 50]\n"
     ]
    }
   ],
   "source": [
    "# List Comprehension\n",
    "\n",
    "\n",
    "# Para entender o que esta acontecendo, devemos dividir em duas partes.\n",
    "# Primeira: for numero in numeros (loops)\n",
    "# Segunda: numero * 10 (equações, condicionais)\n",
    "\n",
    "\n",
    "numeros = [1,2,3,4,5]\n",
    "\n",
    "res = [numero * 10 for numero in numeros]\n",
    "print(res)\n",
    "\n"
   ]
  },
  {
   "cell_type": "code",
   "execution_count": 4,
   "metadata": {},
   "outputs": [
    {
     "name": "stdout",
     "output_type": "stream",
     "text": [
      "[2, 4, 6, 8]\n",
      "[2, 4, 6, 8]\n"
     ]
    }
   ],
   "source": [
    "# Exemplo do por que usar!!! (LOOPS)\n",
    "\n",
    "numeros = [1,2,3,4]\n",
    "numeros_dobrados = []\n",
    "\n",
    "for numero in numeros:\n",
    "    numero_dobrado = numero * 2\n",
    "    numeros_dobrados.append(numero_dobrado)\n",
    "print(numeros_dobrados)\n",
    "\n",
    "\n",
    "\n",
    "# Com List Comprehension\n",
    "print([numero * 2 for numero in numeros])"
   ]
  },
  {
   "cell_type": "code",
   "execution_count": 6,
   "metadata": {},
   "outputs": [
    {
     "name": "stdout",
     "output_type": "stream",
     "text": [
      "[2, 4, 6]\n",
      "[1, 3, 5]\n",
      "[0.5, 4, 1.5, 8, 2.5, 12]\n"
     ]
    }
   ],
   "source": [
    "# Usando condicionais lógicas (IF,  ELSE...)\n",
    "numeros =[1,2,3,4,5,6]\n",
    "pares = [numero for numero in numeros if numero % 2 == 0]\n",
    "impar = [numero for numero in numeros if numero % 2 != 0]\n",
    "\n",
    "\n",
    "print(pares)\n",
    "print(impar)\n",
    "\n",
    "\n",
    "# 2\n",
    "\n",
    "res = [numero*2 if numero % 2 == 0 else numero / 2 for numero in numeros]\n",
    "print(res)"
   ]
  },
  {
   "cell_type": "code",
   "execution_count": 9,
   "metadata": {},
   "outputs": [
    {
     "name": "stdout",
     "output_type": "stream",
     "text": [
      "7\n",
      "[[1, 2, 3], [3, 4, 5], [6, 7, 8]]\n"
     ]
    }
   ],
   "source": [
    "# multidimensionais = Listas aninhadas, matrizes\n",
    "# unidimensionais = arrays, vetores, listas\n",
    "\n",
    "\n",
    "matriz = [[1,2,3], [3,4,5], [6,7,8]]\n",
    "\n",
    "\n",
    "print(matriz[2][1])\n",
    "\n",
    "print(matriz)\n"
   ]
  },
  {
   "cell_type": "code",
   "execution_count": 11,
   "metadata": {},
   "outputs": [
    {
     "name": "stdout",
     "output_type": "stream",
     "text": [
      "[1, 2, 3]\n",
      "[3, 4, 5]\n",
      "[6, 7, 8]\n",
      "[[1, 2, 3], [3, 4, 5], [6, 7, 8]]\n"
     ]
    }
   ],
   "source": [
    "# Iterando matrizes\n",
    "matriz = [[1,2,3], [3,4,5], [6,7,8]]\n",
    "\n",
    "for lista in matriz:\n",
    "    print(lista)\n",
    "\n",
    "\n",
    "# List comprehension\n",
    "rec = [lista for lista in matriz]\n",
    "print(rec)"
   ]
  },
  {
   "cell_type": "markdown",
   "metadata": {},
   "source": [
    "<h1>DICTIONARY COMPREHENSION</h1>"
   ]
  },
  {
   "cell_type": "code",
   "execution_count": 12,
   "metadata": {},
   "outputs": [
    {
     "name": "stdout",
     "output_type": "stream",
     "text": [
      "{'a': 1, 'b': 4, 'c': 9}\n"
     ]
    }
   ],
   "source": [
    "# Principio é o mesmo que o da lista.\n",
    "\n",
    "numeros = {'a':1, 'b':2, 'c':3}\n",
    "quadrado = {chave: valor ** 2 for chave, valor in numeros.items()}\n",
    "print(quadrado)"
   ]
  },
  {
   "cell_type": "code",
   "execution_count": 14,
   "metadata": {},
   "outputs": [
    {
     "name": "stdout",
     "output_type": "stream",
     "text": [
      "{'a': 1, 'b': 4, 'c': 9}\n"
     ]
    }
   ],
   "source": [
    "numeros = [1,2,3]\n",
    "quadrados = {valor:valor **2 for valor in numeros}\n",
    "print(quadrado)"
   ]
  },
  {
   "cell_type": "code",
   "execution_count": null,
   "metadata": {},
   "outputs": [],
   "source": []
  }
 ],
 "metadata": {
  "kernelspec": {
   "display_name": "Python 3",
   "language": "python",
   "name": "python3"
  },
  "language_info": {
   "codemirror_mode": {
    "name": "ipython",
    "version": 3
   },
   "file_extension": ".py",
   "mimetype": "text/x-python",
   "name": "python",
   "nbconvert_exporter": "python",
   "pygments_lexer": "ipython3",
   "version": "3.11.7"
  }
 },
 "nbformat": 4,
 "nbformat_minor": 2
}
